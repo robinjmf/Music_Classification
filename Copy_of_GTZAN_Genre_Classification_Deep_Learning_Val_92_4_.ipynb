{
  "cells": [
    {
      "cell_type": "markdown",
      "metadata": {
        "id": "view-in-github",
        "colab_type": "text"
      },
      "source": [
        "<a href=\"https://colab.research.google.com/github/robinjmf/Audio_Analysis/blob/main/Copy_of_GTZAN_Genre_Classification_Deep_Learning_Val_92_4_.ipynb\" target=\"_parent\"><img src=\"https://colab.research.google.com/assets/colab-badge.svg\" alt=\"Open In Colab\"/></a>"
      ]
    },
    {
      "source": [
        "\n",
        "# # IMPORTANT: RUN THIS CELL IN ORDER TO IMPORT YOUR KAGGLE DATA SOURCES\n",
        "# # TO THE CORRECT LOCATION (/kaggle/input) IN YOUR NOTEBOOK,\n",
        "# # THEN FEEL FREE TO DELETE THIS CELL.\n",
        "# # NOTE: THIS NOTEBOOK ENVIRONMENT DIFFERS FROM KAGGLE'S PYTHON\n",
        "# # ENVIRONMENT SO THERE MAY BE MISSING LIBRARIES USED BY YOUR\n",
        "# # NOTEBOOK.\n",
        "\n",
        "# import os\n",
        "# import sys\n",
        "# from tempfile import NamedTemporaryFile\n",
        "# from urllib.request import urlopen\n",
        "# from urllib.parse import unquote, urlparse\n",
        "# from urllib.error import HTTPError\n",
        "# from zipfile import ZipFile\n",
        "# import tarfile\n",
        "# import shutil\n",
        "\n",
        "# CHUNK_SIZE = 40960\n",
        "# DATA_SOURCE_MAPPING = 'gtzan-dataset-music-genre-classification:https%3A%2F%2Fstorage.googleapis.com%2Fkaggle-data-sets%2F568973%2F1032238%2Fbundle%2Farchive.zip%3FX-Goog-Algorithm%3DGOOG4-RSA-SHA256%26X-Goog-Credential%3Dgcp-kaggle-com%2540kaggle-161607.iam.gserviceaccount.com%252F20240820%252Fauto%252Fstorage%252Fgoog4_request%26X-Goog-Date%3D20240820T064039Z%26X-Goog-Expires%3D259200%26X-Goog-SignedHeaders%3Dhost%26X-Goog-Signature%3D2895a992d3cf77a2219e2129aea7d76c100ae9653b94265ace120c81375b72952c976cd64f26c94500f2d01ce53df7849bdcd975f54671c76b9d63f74e8bdba64520b1eb8373f922beaec0ee7b399bb7a7b044b6c65f694882ef2bbd7c6a98f52344fab0b9022ea66308bef17edb02826cce4c2df49eb46c951f92856ebb538dfe8d63403bad87b309cba6d33a9976e56aaa2e9d4e5cd026547c5c636eb175a8a381fc34e828e0517b51bcbe49748b9f8de980a65ad7ef6a4c49fc2da41fe315ed089d28e62bd52b58f99b77e06664369f6e498caf48bb7413b43eeb79a467555f384ac67254df03f5d423ae6f33281f26be28fda631ebb002d88ee373cc88d9'\n",
        "\n",
        "# KAGGLE_INPUT_PATH='/kaggle/input'\n",
        "# KAGGLE_WORKING_PATH='/kaggle/working'\n",
        "# KAGGLE_SYMLINK='kaggle'\n",
        "\n",
        "# !umount /kaggle/input/ 2> /dev/null\n",
        "# shutil.rmtree('/kaggle/input', ignore_errors=True)\n",
        "# os.makedirs(KAGGLE_INPUT_PATH, 0o777, exist_ok=True)\n",
        "# os.makedirs(KAGGLE_WORKING_PATH, 0o777, exist_ok=True)\n",
        "\n",
        "# try:\n",
        "#   os.symlink(KAGGLE_INPUT_PATH, os.path.join(\"..\", 'input'), target_is_directory=True)\n",
        "# except FileExistsError:\n",
        "#   pass\n",
        "# try:\n",
        "#   os.symlink(KAGGLE_WORKING_PATH, os.path.join(\"..\", 'working'), target_is_directory=True)\n",
        "# except FileExistsError:\n",
        "#   pass\n",
        "\n",
        "# for data_source_mapping in DATA_SOURCE_MAPPING.split(','):\n",
        "#     directory, download_url_encoded = data_source_mapping.split(':')\n",
        "#     download_url = unquote(download_url_encoded)\n",
        "#     filename = urlparse(download_url).path\n",
        "#     destination_path = os.path.join(KAGGLE_INPUT_PATH, directory)\n",
        "#     try:\n",
        "#         with urlopen(download_url) as fileres, NamedTemporaryFile() as tfile:\n",
        "#             total_length = fileres.headers['content-length']\n",
        "#             print(f'Downloading {directory}, {total_length} bytes compressed')\n",
        "#             dl = 0\n",
        "#             data = fileres.read(CHUNK_SIZE)\n",
        "#             while len(data) > 0:\n",
        "#                 dl += len(data)\n",
        "#                 tfile.write(data)\n",
        "#                 done = int(50 * dl / int(total_length))\n",
        "#                 sys.stdout.write(f\"\\r[{'=' * done}{' ' * (50-done)}] {dl} bytes downloaded\")\n",
        "#                 sys.stdout.flush()\n",
        "#                 data = fileres.read(CHUNK_SIZE)\n",
        "#             if filename.endswith('.zip'):\n",
        "#               with ZipFile(tfile) as zfile:\n",
        "#                 zfile.extractall(destination_path)\n",
        "#             else:\n",
        "#               with tarfile.open(tfile.name) as tarfile:\n",
        "#                 tarfile.extractall(destination_path)\n",
        "#             print(f'\\nDownloaded and uncompressed: {directory}')\n",
        "#     except HTTPError as e:\n",
        "#         print(f'Failed to load (likely expired) {download_url} to path {destination_path}')\n",
        "#         continue\n",
        "#     except OSError as e:\n",
        "#         print(f'Failed to load {download_url} to path {destination_path}')\n",
        "#         continue\n",
        "\n",
        "# print('Data source import complete.')\n"
      ],
      "metadata": {
        "id": "USDv6deCh3xE"
      },
      "cell_type": "code",
      "outputs": [],
      "execution_count": 8
    },
    {
      "cell_type": "code",
      "source": [
        "# # Install kaggle and kagglehub\n",
        "# !pip install kaggle kagglehub\n"
      ],
      "metadata": {
        "id": "CkNRoe3eYjlG"
      },
      "execution_count": 11,
      "outputs": []
    },
    {
      "cell_type": "code",
      "source": [
        "import kagglehub\n",
        "import shutil\n",
        "import os\n",
        "\n",
        "\n",
        "# Download latest version\n",
        "path = kagglehub.dataset_download(\"andradaolteanu/gtzan-dataset-music-genre-classification\")\n",
        "\n",
        "print(\"Path to dataset files:\", path)\n",
        "\n",
        "\n",
        "# Define the target path\n",
        "target_path = '/kaggle/input/gtzan-dataset-music-genre-classification'\n",
        "os.makedirs(target_path, exist_ok=True)\n",
        "\n",
        "# Move files from the download location to the target path\n",
        "shutil.move(path, target_path)\n",
        "\n",
        "print(\"Dataset successfully moved to:\", target_path)\n",
        "\n",
        "print(\"Path to dataset files:\", download_path)\n"
      ],
      "metadata": {
        "colab": {
          "base_uri": "https://localhost:8080/"
        },
        "id": "1_Z5sWAtUqls",
        "outputId": "c33cc603-5c6c-44f4-f115-913069641355"
      },
      "execution_count": 12,
      "outputs": [
        {
          "output_type": "stream",
          "name": "stdout",
          "text": [
            "Path to dataset files: /root/.cache/kagglehub/datasets/andradaolteanu/gtzan-dataset-music-genre-classification/versions/1\n",
            "Dataset successfully moved to: /kaggle/input/gtzan-dataset-music-genre-classification\n",
            "Path to dataset files: /kaggle/input/gtzan-dataset-music-genre-classification\n"
          ]
        }
      ]
    },
    {
      "metadata": {
        "id": "I0sgvyYch3xJ"
      },
      "cell_type": "markdown",
      "source": [
        "# GTZAN - Deep Learning\n",
        "\n",
        "`Music Genre Classification Problem`. Experts have been trying for a long time to understand sound & what differentiates one from another. How to visualize sound. What makes one tone different from another.\n",
        "\n",
        "We are going to analyze the features extracted from the GTZAN dataset and build different type of ensemble models to see how better we can differentiate one genre from another.\n",
        "\n",
        "Our Datasets contains 10 genres:-\n",
        "- Blues\n",
        "- Classical\n",
        "- Country\n",
        "- Disco\n",
        "- Hiphop\n",
        "- Jazz\n",
        "- Metal\n",
        "- Pop\n",
        "- Reggae\n",
        "- Rock\n"
      ]
    },
    {
      "metadata": {
        "id": "0NqzXRRdh3xL"
      },
      "cell_type": "markdown",
      "source": [
        "# Reading & Understanding Data\n",
        "## Importing Libraries"
      ]
    },
    {
      "metadata": {
        "trusted": true,
        "id": "sNXEGNiMh3xL"
      },
      "cell_type": "code",
      "source": [
        "import numpy as np\n",
        "import pandas as pd\n",
        "import matplotlib.pyplot as plt\n",
        "import seaborn as sns\n",
        "sns.set_style('whitegrid')\n",
        "%matplotlib inline\n",
        "import warnings\n",
        "warnings.filterwarnings('ignore')\n",
        "import sklearn.metrics as skm\n",
        "import sklearn.model_selection as skms\n",
        "import sklearn.preprocessing as skp\n",
        "import random\n",
        "import librosa, IPython\n",
        "import librosa.display as lplt\n",
        "seed = 12\n",
        "np.random.seed(seed)"
      ],
      "execution_count": 13,
      "outputs": []
    },
    {
      "metadata": {
        "id": "lv9KHSTbh3xM"
      },
      "cell_type": "markdown",
      "source": [
        "### Loading Dataset"
      ]
    },
    {
      "metadata": {
        "trusted": true,
        "id": "ZxoBb-FVh3xM",
        "colab": {
          "base_uri": "https://localhost:8080/",
          "height": 256
        },
        "outputId": "be5376cf-d962-4df3-d35e-76b9390c5a37"
      },
      "cell_type": "code",
      "source": [
        "df = pd.read_csv('/kaggle/input/gtzan-dataset-music-genre-classification/1/Data/features_3_sec.csv')\n",
        "df.head()"
      ],
      "execution_count": 15,
      "outputs": [
        {
          "output_type": "execute_result",
          "data": {
            "text/plain": [
              "            filename  length  chroma_stft_mean  chroma_stft_var  rms_mean  \\\n",
              "0  blues.00000.0.wav   66149          0.335406         0.091048  0.130405   \n",
              "1  blues.00000.1.wav   66149          0.343065         0.086147  0.112699   \n",
              "2  blues.00000.2.wav   66149          0.346815         0.092243  0.132003   \n",
              "3  blues.00000.3.wav   66149          0.363639         0.086856  0.132565   \n",
              "4  blues.00000.4.wav   66149          0.335579         0.088129  0.143289   \n",
              "\n",
              "    rms_var  spectral_centroid_mean  spectral_centroid_var  \\\n",
              "0  0.003521             1773.065032          167541.630869   \n",
              "1  0.001450             1816.693777           90525.690866   \n",
              "2  0.004620             1788.539719          111407.437613   \n",
              "3  0.002448             1655.289045          111952.284517   \n",
              "4  0.001701             1630.656199           79667.267654   \n",
              "\n",
              "   spectral_bandwidth_mean  spectral_bandwidth_var  ...  mfcc16_var  \\\n",
              "0              1972.744388           117335.771563  ...   39.687145   \n",
              "1              2010.051501            65671.875673  ...   64.748276   \n",
              "2              2084.565132            75124.921716  ...   67.336563   \n",
              "3              1960.039988            82913.639269  ...   47.739452   \n",
              "4              1948.503884            60204.020268  ...   30.336359   \n",
              "\n",
              "   mfcc17_mean  mfcc17_var  mfcc18_mean  mfcc18_var  mfcc19_mean  mfcc19_var  \\\n",
              "0    -3.241280   36.488243     0.722209   38.099152    -5.050335   33.618073   \n",
              "1    -6.055294   40.677654     0.159015   51.264091    -2.837699   97.030830   \n",
              "2    -1.768610   28.348579     2.378768   45.717648    -1.938424   53.050835   \n",
              "3    -3.841155   28.337118     1.218588   34.770935    -3.580352   50.836224   \n",
              "4     0.664582   45.880913     1.689446   51.363583    -3.392489   26.738789   \n",
              "\n",
              "   mfcc20_mean  mfcc20_var  label  \n",
              "0    -0.243027   43.771767  blues  \n",
              "1     5.784063   59.943081  blues  \n",
              "2     2.517375   33.105122  blues  \n",
              "3     3.630866   32.023678  blues  \n",
              "4     0.536961   29.146694  blues  \n",
              "\n",
              "[5 rows x 60 columns]"
            ],
            "text/html": [
              "\n",
              "  <div id=\"df-532b9395-c48f-49f4-9f03-8f590788168e\" class=\"colab-df-container\">\n",
              "    <div>\n",
              "<style scoped>\n",
              "    .dataframe tbody tr th:only-of-type {\n",
              "        vertical-align: middle;\n",
              "    }\n",
              "\n",
              "    .dataframe tbody tr th {\n",
              "        vertical-align: top;\n",
              "    }\n",
              "\n",
              "    .dataframe thead th {\n",
              "        text-align: right;\n",
              "    }\n",
              "</style>\n",
              "<table border=\"1\" class=\"dataframe\">\n",
              "  <thead>\n",
              "    <tr style=\"text-align: right;\">\n",
              "      <th></th>\n",
              "      <th>filename</th>\n",
              "      <th>length</th>\n",
              "      <th>chroma_stft_mean</th>\n",
              "      <th>chroma_stft_var</th>\n",
              "      <th>rms_mean</th>\n",
              "      <th>rms_var</th>\n",
              "      <th>spectral_centroid_mean</th>\n",
              "      <th>spectral_centroid_var</th>\n",
              "      <th>spectral_bandwidth_mean</th>\n",
              "      <th>spectral_bandwidth_var</th>\n",
              "      <th>...</th>\n",
              "      <th>mfcc16_var</th>\n",
              "      <th>mfcc17_mean</th>\n",
              "      <th>mfcc17_var</th>\n",
              "      <th>mfcc18_mean</th>\n",
              "      <th>mfcc18_var</th>\n",
              "      <th>mfcc19_mean</th>\n",
              "      <th>mfcc19_var</th>\n",
              "      <th>mfcc20_mean</th>\n",
              "      <th>mfcc20_var</th>\n",
              "      <th>label</th>\n",
              "    </tr>\n",
              "  </thead>\n",
              "  <tbody>\n",
              "    <tr>\n",
              "      <th>0</th>\n",
              "      <td>blues.00000.0.wav</td>\n",
              "      <td>66149</td>\n",
              "      <td>0.335406</td>\n",
              "      <td>0.091048</td>\n",
              "      <td>0.130405</td>\n",
              "      <td>0.003521</td>\n",
              "      <td>1773.065032</td>\n",
              "      <td>167541.630869</td>\n",
              "      <td>1972.744388</td>\n",
              "      <td>117335.771563</td>\n",
              "      <td>...</td>\n",
              "      <td>39.687145</td>\n",
              "      <td>-3.241280</td>\n",
              "      <td>36.488243</td>\n",
              "      <td>0.722209</td>\n",
              "      <td>38.099152</td>\n",
              "      <td>-5.050335</td>\n",
              "      <td>33.618073</td>\n",
              "      <td>-0.243027</td>\n",
              "      <td>43.771767</td>\n",
              "      <td>blues</td>\n",
              "    </tr>\n",
              "    <tr>\n",
              "      <th>1</th>\n",
              "      <td>blues.00000.1.wav</td>\n",
              "      <td>66149</td>\n",
              "      <td>0.343065</td>\n",
              "      <td>0.086147</td>\n",
              "      <td>0.112699</td>\n",
              "      <td>0.001450</td>\n",
              "      <td>1816.693777</td>\n",
              "      <td>90525.690866</td>\n",
              "      <td>2010.051501</td>\n",
              "      <td>65671.875673</td>\n",
              "      <td>...</td>\n",
              "      <td>64.748276</td>\n",
              "      <td>-6.055294</td>\n",
              "      <td>40.677654</td>\n",
              "      <td>0.159015</td>\n",
              "      <td>51.264091</td>\n",
              "      <td>-2.837699</td>\n",
              "      <td>97.030830</td>\n",
              "      <td>5.784063</td>\n",
              "      <td>59.943081</td>\n",
              "      <td>blues</td>\n",
              "    </tr>\n",
              "    <tr>\n",
              "      <th>2</th>\n",
              "      <td>blues.00000.2.wav</td>\n",
              "      <td>66149</td>\n",
              "      <td>0.346815</td>\n",
              "      <td>0.092243</td>\n",
              "      <td>0.132003</td>\n",
              "      <td>0.004620</td>\n",
              "      <td>1788.539719</td>\n",
              "      <td>111407.437613</td>\n",
              "      <td>2084.565132</td>\n",
              "      <td>75124.921716</td>\n",
              "      <td>...</td>\n",
              "      <td>67.336563</td>\n",
              "      <td>-1.768610</td>\n",
              "      <td>28.348579</td>\n",
              "      <td>2.378768</td>\n",
              "      <td>45.717648</td>\n",
              "      <td>-1.938424</td>\n",
              "      <td>53.050835</td>\n",
              "      <td>2.517375</td>\n",
              "      <td>33.105122</td>\n",
              "      <td>blues</td>\n",
              "    </tr>\n",
              "    <tr>\n",
              "      <th>3</th>\n",
              "      <td>blues.00000.3.wav</td>\n",
              "      <td>66149</td>\n",
              "      <td>0.363639</td>\n",
              "      <td>0.086856</td>\n",
              "      <td>0.132565</td>\n",
              "      <td>0.002448</td>\n",
              "      <td>1655.289045</td>\n",
              "      <td>111952.284517</td>\n",
              "      <td>1960.039988</td>\n",
              "      <td>82913.639269</td>\n",
              "      <td>...</td>\n",
              "      <td>47.739452</td>\n",
              "      <td>-3.841155</td>\n",
              "      <td>28.337118</td>\n",
              "      <td>1.218588</td>\n",
              "      <td>34.770935</td>\n",
              "      <td>-3.580352</td>\n",
              "      <td>50.836224</td>\n",
              "      <td>3.630866</td>\n",
              "      <td>32.023678</td>\n",
              "      <td>blues</td>\n",
              "    </tr>\n",
              "    <tr>\n",
              "      <th>4</th>\n",
              "      <td>blues.00000.4.wav</td>\n",
              "      <td>66149</td>\n",
              "      <td>0.335579</td>\n",
              "      <td>0.088129</td>\n",
              "      <td>0.143289</td>\n",
              "      <td>0.001701</td>\n",
              "      <td>1630.656199</td>\n",
              "      <td>79667.267654</td>\n",
              "      <td>1948.503884</td>\n",
              "      <td>60204.020268</td>\n",
              "      <td>...</td>\n",
              "      <td>30.336359</td>\n",
              "      <td>0.664582</td>\n",
              "      <td>45.880913</td>\n",
              "      <td>1.689446</td>\n",
              "      <td>51.363583</td>\n",
              "      <td>-3.392489</td>\n",
              "      <td>26.738789</td>\n",
              "      <td>0.536961</td>\n",
              "      <td>29.146694</td>\n",
              "      <td>blues</td>\n",
              "    </tr>\n",
              "  </tbody>\n",
              "</table>\n",
              "<p>5 rows × 60 columns</p>\n",
              "</div>\n",
              "    <div class=\"colab-df-buttons\">\n",
              "\n",
              "  <div class=\"colab-df-container\">\n",
              "    <button class=\"colab-df-convert\" onclick=\"convertToInteractive('df-532b9395-c48f-49f4-9f03-8f590788168e')\"\n",
              "            title=\"Convert this dataframe to an interactive table.\"\n",
              "            style=\"display:none;\">\n",
              "\n",
              "  <svg xmlns=\"http://www.w3.org/2000/svg\" height=\"24px\" viewBox=\"0 -960 960 960\">\n",
              "    <path d=\"M120-120v-720h720v720H120Zm60-500h600v-160H180v160Zm220 220h160v-160H400v160Zm0 220h160v-160H400v160ZM180-400h160v-160H180v160Zm440 0h160v-160H620v160ZM180-180h160v-160H180v160Zm440 0h160v-160H620v160Z\"/>\n",
              "  </svg>\n",
              "    </button>\n",
              "\n",
              "  <style>\n",
              "    .colab-df-container {\n",
              "      display:flex;\n",
              "      gap: 12px;\n",
              "    }\n",
              "\n",
              "    .colab-df-convert {\n",
              "      background-color: #E8F0FE;\n",
              "      border: none;\n",
              "      border-radius: 50%;\n",
              "      cursor: pointer;\n",
              "      display: none;\n",
              "      fill: #1967D2;\n",
              "      height: 32px;\n",
              "      padding: 0 0 0 0;\n",
              "      width: 32px;\n",
              "    }\n",
              "\n",
              "    .colab-df-convert:hover {\n",
              "      background-color: #E2EBFA;\n",
              "      box-shadow: 0px 1px 2px rgba(60, 64, 67, 0.3), 0px 1px 3px 1px rgba(60, 64, 67, 0.15);\n",
              "      fill: #174EA6;\n",
              "    }\n",
              "\n",
              "    .colab-df-buttons div {\n",
              "      margin-bottom: 4px;\n",
              "    }\n",
              "\n",
              "    [theme=dark] .colab-df-convert {\n",
              "      background-color: #3B4455;\n",
              "      fill: #D2E3FC;\n",
              "    }\n",
              "\n",
              "    [theme=dark] .colab-df-convert:hover {\n",
              "      background-color: #434B5C;\n",
              "      box-shadow: 0px 1px 3px 1px rgba(0, 0, 0, 0.15);\n",
              "      filter: drop-shadow(0px 1px 2px rgba(0, 0, 0, 0.3));\n",
              "      fill: #FFFFFF;\n",
              "    }\n",
              "  </style>\n",
              "\n",
              "    <script>\n",
              "      const buttonEl =\n",
              "        document.querySelector('#df-532b9395-c48f-49f4-9f03-8f590788168e button.colab-df-convert');\n",
              "      buttonEl.style.display =\n",
              "        google.colab.kernel.accessAllowed ? 'block' : 'none';\n",
              "\n",
              "      async function convertToInteractive(key) {\n",
              "        const element = document.querySelector('#df-532b9395-c48f-49f4-9f03-8f590788168e');\n",
              "        const dataTable =\n",
              "          await google.colab.kernel.invokeFunction('convertToInteractive',\n",
              "                                                    [key], {});\n",
              "        if (!dataTable) return;\n",
              "\n",
              "        const docLinkHtml = 'Like what you see? Visit the ' +\n",
              "          '<a target=\"_blank\" href=https://colab.research.google.com/notebooks/data_table.ipynb>data table notebook</a>'\n",
              "          + ' to learn more about interactive tables.';\n",
              "        element.innerHTML = '';\n",
              "        dataTable['output_type'] = 'display_data';\n",
              "        await google.colab.output.renderOutput(dataTable, element);\n",
              "        const docLink = document.createElement('div');\n",
              "        docLink.innerHTML = docLinkHtml;\n",
              "        element.appendChild(docLink);\n",
              "      }\n",
              "    </script>\n",
              "  </div>\n",
              "\n",
              "\n",
              "<div id=\"df-97e5ef5c-e8e4-428d-9f4c-b98fd847e26d\">\n",
              "  <button class=\"colab-df-quickchart\" onclick=\"quickchart('df-97e5ef5c-e8e4-428d-9f4c-b98fd847e26d')\"\n",
              "            title=\"Suggest charts\"\n",
              "            style=\"display:none;\">\n",
              "\n",
              "<svg xmlns=\"http://www.w3.org/2000/svg\" height=\"24px\"viewBox=\"0 0 24 24\"\n",
              "     width=\"24px\">\n",
              "    <g>\n",
              "        <path d=\"M19 3H5c-1.1 0-2 .9-2 2v14c0 1.1.9 2 2 2h14c1.1 0 2-.9 2-2V5c0-1.1-.9-2-2-2zM9 17H7v-7h2v7zm4 0h-2V7h2v10zm4 0h-2v-4h2v4z\"/>\n",
              "    </g>\n",
              "</svg>\n",
              "  </button>\n",
              "\n",
              "<style>\n",
              "  .colab-df-quickchart {\n",
              "      --bg-color: #E8F0FE;\n",
              "      --fill-color: #1967D2;\n",
              "      --hover-bg-color: #E2EBFA;\n",
              "      --hover-fill-color: #174EA6;\n",
              "      --disabled-fill-color: #AAA;\n",
              "      --disabled-bg-color: #DDD;\n",
              "  }\n",
              "\n",
              "  [theme=dark] .colab-df-quickchart {\n",
              "      --bg-color: #3B4455;\n",
              "      --fill-color: #D2E3FC;\n",
              "      --hover-bg-color: #434B5C;\n",
              "      --hover-fill-color: #FFFFFF;\n",
              "      --disabled-bg-color: #3B4455;\n",
              "      --disabled-fill-color: #666;\n",
              "  }\n",
              "\n",
              "  .colab-df-quickchart {\n",
              "    background-color: var(--bg-color);\n",
              "    border: none;\n",
              "    border-radius: 50%;\n",
              "    cursor: pointer;\n",
              "    display: none;\n",
              "    fill: var(--fill-color);\n",
              "    height: 32px;\n",
              "    padding: 0;\n",
              "    width: 32px;\n",
              "  }\n",
              "\n",
              "  .colab-df-quickchart:hover {\n",
              "    background-color: var(--hover-bg-color);\n",
              "    box-shadow: 0 1px 2px rgba(60, 64, 67, 0.3), 0 1px 3px 1px rgba(60, 64, 67, 0.15);\n",
              "    fill: var(--button-hover-fill-color);\n",
              "  }\n",
              "\n",
              "  .colab-df-quickchart-complete:disabled,\n",
              "  .colab-df-quickchart-complete:disabled:hover {\n",
              "    background-color: var(--disabled-bg-color);\n",
              "    fill: var(--disabled-fill-color);\n",
              "    box-shadow: none;\n",
              "  }\n",
              "\n",
              "  .colab-df-spinner {\n",
              "    border: 2px solid var(--fill-color);\n",
              "    border-color: transparent;\n",
              "    border-bottom-color: var(--fill-color);\n",
              "    animation:\n",
              "      spin 1s steps(1) infinite;\n",
              "  }\n",
              "\n",
              "  @keyframes spin {\n",
              "    0% {\n",
              "      border-color: transparent;\n",
              "      border-bottom-color: var(--fill-color);\n",
              "      border-left-color: var(--fill-color);\n",
              "    }\n",
              "    20% {\n",
              "      border-color: transparent;\n",
              "      border-left-color: var(--fill-color);\n",
              "      border-top-color: var(--fill-color);\n",
              "    }\n",
              "    30% {\n",
              "      border-color: transparent;\n",
              "      border-left-color: var(--fill-color);\n",
              "      border-top-color: var(--fill-color);\n",
              "      border-right-color: var(--fill-color);\n",
              "    }\n",
              "    40% {\n",
              "      border-color: transparent;\n",
              "      border-right-color: var(--fill-color);\n",
              "      border-top-color: var(--fill-color);\n",
              "    }\n",
              "    60% {\n",
              "      border-color: transparent;\n",
              "      border-right-color: var(--fill-color);\n",
              "    }\n",
              "    80% {\n",
              "      border-color: transparent;\n",
              "      border-right-color: var(--fill-color);\n",
              "      border-bottom-color: var(--fill-color);\n",
              "    }\n",
              "    90% {\n",
              "      border-color: transparent;\n",
              "      border-bottom-color: var(--fill-color);\n",
              "    }\n",
              "  }\n",
              "</style>\n",
              "\n",
              "  <script>\n",
              "    async function quickchart(key) {\n",
              "      const quickchartButtonEl =\n",
              "        document.querySelector('#' + key + ' button');\n",
              "      quickchartButtonEl.disabled = true;  // To prevent multiple clicks.\n",
              "      quickchartButtonEl.classList.add('colab-df-spinner');\n",
              "      try {\n",
              "        const charts = await google.colab.kernel.invokeFunction(\n",
              "            'suggestCharts', [key], {});\n",
              "      } catch (error) {\n",
              "        console.error('Error during call to suggestCharts:', error);\n",
              "      }\n",
              "      quickchartButtonEl.classList.remove('colab-df-spinner');\n",
              "      quickchartButtonEl.classList.add('colab-df-quickchart-complete');\n",
              "    }\n",
              "    (() => {\n",
              "      let quickchartButtonEl =\n",
              "        document.querySelector('#df-97e5ef5c-e8e4-428d-9f4c-b98fd847e26d button');\n",
              "      quickchartButtonEl.style.display =\n",
              "        google.colab.kernel.accessAllowed ? 'block' : 'none';\n",
              "    })();\n",
              "  </script>\n",
              "</div>\n",
              "\n",
              "    </div>\n",
              "  </div>\n"
            ],
            "application/vnd.google.colaboratory.intrinsic+json": {
              "type": "dataframe",
              "variable_name": "df"
            }
          },
          "metadata": {},
          "execution_count": 15
        }
      ]
    },
    {
      "metadata": {
        "id": "HuutvkiLh3xN"
      },
      "cell_type": "markdown",
      "source": [
        "### About the dataset"
      ]
    },
    {
      "metadata": {
        "scrolled": false,
        "trusted": true,
        "id": "8HoHDGhOh3xN",
        "colab": {
          "base_uri": "https://localhost:8080/",
          "height": 398
        },
        "outputId": "8a452423-943d-4e8a-de86-f41d2717bbc4"
      },
      "cell_type": "code",
      "source": [
        "print(\"Dataset has\",df.shape)\n",
        "print(\"Count of Positive and Negative samples\")\n",
        "df.label.value_counts().reset_index()"
      ],
      "execution_count": 16,
      "outputs": [
        {
          "output_type": "stream",
          "name": "stdout",
          "text": [
            "Dataset has (9990, 60)\n",
            "Count of Positive and Negative samples\n"
          ]
        },
        {
          "output_type": "execute_result",
          "data": {
            "text/plain": [
              "       label  count\n",
              "0      blues   1000\n",
              "1       jazz   1000\n",
              "2      metal   1000\n",
              "3        pop   1000\n",
              "4     reggae   1000\n",
              "5      disco    999\n",
              "6  classical    998\n",
              "7     hiphop    998\n",
              "8       rock    998\n",
              "9    country    997"
            ],
            "text/html": [
              "\n",
              "  <div id=\"df-aa046ab4-8d4d-4f97-be00-016261116f6c\" class=\"colab-df-container\">\n",
              "    <div>\n",
              "<style scoped>\n",
              "    .dataframe tbody tr th:only-of-type {\n",
              "        vertical-align: middle;\n",
              "    }\n",
              "\n",
              "    .dataframe tbody tr th {\n",
              "        vertical-align: top;\n",
              "    }\n",
              "\n",
              "    .dataframe thead th {\n",
              "        text-align: right;\n",
              "    }\n",
              "</style>\n",
              "<table border=\"1\" class=\"dataframe\">\n",
              "  <thead>\n",
              "    <tr style=\"text-align: right;\">\n",
              "      <th></th>\n",
              "      <th>label</th>\n",
              "      <th>count</th>\n",
              "    </tr>\n",
              "  </thead>\n",
              "  <tbody>\n",
              "    <tr>\n",
              "      <th>0</th>\n",
              "      <td>blues</td>\n",
              "      <td>1000</td>\n",
              "    </tr>\n",
              "    <tr>\n",
              "      <th>1</th>\n",
              "      <td>jazz</td>\n",
              "      <td>1000</td>\n",
              "    </tr>\n",
              "    <tr>\n",
              "      <th>2</th>\n",
              "      <td>metal</td>\n",
              "      <td>1000</td>\n",
              "    </tr>\n",
              "    <tr>\n",
              "      <th>3</th>\n",
              "      <td>pop</td>\n",
              "      <td>1000</td>\n",
              "    </tr>\n",
              "    <tr>\n",
              "      <th>4</th>\n",
              "      <td>reggae</td>\n",
              "      <td>1000</td>\n",
              "    </tr>\n",
              "    <tr>\n",
              "      <th>5</th>\n",
              "      <td>disco</td>\n",
              "      <td>999</td>\n",
              "    </tr>\n",
              "    <tr>\n",
              "      <th>6</th>\n",
              "      <td>classical</td>\n",
              "      <td>998</td>\n",
              "    </tr>\n",
              "    <tr>\n",
              "      <th>7</th>\n",
              "      <td>hiphop</td>\n",
              "      <td>998</td>\n",
              "    </tr>\n",
              "    <tr>\n",
              "      <th>8</th>\n",
              "      <td>rock</td>\n",
              "      <td>998</td>\n",
              "    </tr>\n",
              "    <tr>\n",
              "      <th>9</th>\n",
              "      <td>country</td>\n",
              "      <td>997</td>\n",
              "    </tr>\n",
              "  </tbody>\n",
              "</table>\n",
              "</div>\n",
              "    <div class=\"colab-df-buttons\">\n",
              "\n",
              "  <div class=\"colab-df-container\">\n",
              "    <button class=\"colab-df-convert\" onclick=\"convertToInteractive('df-aa046ab4-8d4d-4f97-be00-016261116f6c')\"\n",
              "            title=\"Convert this dataframe to an interactive table.\"\n",
              "            style=\"display:none;\">\n",
              "\n",
              "  <svg xmlns=\"http://www.w3.org/2000/svg\" height=\"24px\" viewBox=\"0 -960 960 960\">\n",
              "    <path d=\"M120-120v-720h720v720H120Zm60-500h600v-160H180v160Zm220 220h160v-160H400v160Zm0 220h160v-160H400v160ZM180-400h160v-160H180v160Zm440 0h160v-160H620v160ZM180-180h160v-160H180v160Zm440 0h160v-160H620v160Z\"/>\n",
              "  </svg>\n",
              "    </button>\n",
              "\n",
              "  <style>\n",
              "    .colab-df-container {\n",
              "      display:flex;\n",
              "      gap: 12px;\n",
              "    }\n",
              "\n",
              "    .colab-df-convert {\n",
              "      background-color: #E8F0FE;\n",
              "      border: none;\n",
              "      border-radius: 50%;\n",
              "      cursor: pointer;\n",
              "      display: none;\n",
              "      fill: #1967D2;\n",
              "      height: 32px;\n",
              "      padding: 0 0 0 0;\n",
              "      width: 32px;\n",
              "    }\n",
              "\n",
              "    .colab-df-convert:hover {\n",
              "      background-color: #E2EBFA;\n",
              "      box-shadow: 0px 1px 2px rgba(60, 64, 67, 0.3), 0px 1px 3px 1px rgba(60, 64, 67, 0.15);\n",
              "      fill: #174EA6;\n",
              "    }\n",
              "\n",
              "    .colab-df-buttons div {\n",
              "      margin-bottom: 4px;\n",
              "    }\n",
              "\n",
              "    [theme=dark] .colab-df-convert {\n",
              "      background-color: #3B4455;\n",
              "      fill: #D2E3FC;\n",
              "    }\n",
              "\n",
              "    [theme=dark] .colab-df-convert:hover {\n",
              "      background-color: #434B5C;\n",
              "      box-shadow: 0px 1px 3px 1px rgba(0, 0, 0, 0.15);\n",
              "      filter: drop-shadow(0px 1px 2px rgba(0, 0, 0, 0.3));\n",
              "      fill: #FFFFFF;\n",
              "    }\n",
              "  </style>\n",
              "\n",
              "    <script>\n",
              "      const buttonEl =\n",
              "        document.querySelector('#df-aa046ab4-8d4d-4f97-be00-016261116f6c button.colab-df-convert');\n",
              "      buttonEl.style.display =\n",
              "        google.colab.kernel.accessAllowed ? 'block' : 'none';\n",
              "\n",
              "      async function convertToInteractive(key) {\n",
              "        const element = document.querySelector('#df-aa046ab4-8d4d-4f97-be00-016261116f6c');\n",
              "        const dataTable =\n",
              "          await google.colab.kernel.invokeFunction('convertToInteractive',\n",
              "                                                    [key], {});\n",
              "        if (!dataTable) return;\n",
              "\n",
              "        const docLinkHtml = 'Like what you see? Visit the ' +\n",
              "          '<a target=\"_blank\" href=https://colab.research.google.com/notebooks/data_table.ipynb>data table notebook</a>'\n",
              "          + ' to learn more about interactive tables.';\n",
              "        element.innerHTML = '';\n",
              "        dataTable['output_type'] = 'display_data';\n",
              "        await google.colab.output.renderOutput(dataTable, element);\n",
              "        const docLink = document.createElement('div');\n",
              "        docLink.innerHTML = docLinkHtml;\n",
              "        element.appendChild(docLink);\n",
              "      }\n",
              "    </script>\n",
              "  </div>\n",
              "\n",
              "\n",
              "<div id=\"df-60628737-65b5-4a10-a0ec-882ff0130b43\">\n",
              "  <button class=\"colab-df-quickchart\" onclick=\"quickchart('df-60628737-65b5-4a10-a0ec-882ff0130b43')\"\n",
              "            title=\"Suggest charts\"\n",
              "            style=\"display:none;\">\n",
              "\n",
              "<svg xmlns=\"http://www.w3.org/2000/svg\" height=\"24px\"viewBox=\"0 0 24 24\"\n",
              "     width=\"24px\">\n",
              "    <g>\n",
              "        <path d=\"M19 3H5c-1.1 0-2 .9-2 2v14c0 1.1.9 2 2 2h14c1.1 0 2-.9 2-2V5c0-1.1-.9-2-2-2zM9 17H7v-7h2v7zm4 0h-2V7h2v10zm4 0h-2v-4h2v4z\"/>\n",
              "    </g>\n",
              "</svg>\n",
              "  </button>\n",
              "\n",
              "<style>\n",
              "  .colab-df-quickchart {\n",
              "      --bg-color: #E8F0FE;\n",
              "      --fill-color: #1967D2;\n",
              "      --hover-bg-color: #E2EBFA;\n",
              "      --hover-fill-color: #174EA6;\n",
              "      --disabled-fill-color: #AAA;\n",
              "      --disabled-bg-color: #DDD;\n",
              "  }\n",
              "\n",
              "  [theme=dark] .colab-df-quickchart {\n",
              "      --bg-color: #3B4455;\n",
              "      --fill-color: #D2E3FC;\n",
              "      --hover-bg-color: #434B5C;\n",
              "      --hover-fill-color: #FFFFFF;\n",
              "      --disabled-bg-color: #3B4455;\n",
              "      --disabled-fill-color: #666;\n",
              "  }\n",
              "\n",
              "  .colab-df-quickchart {\n",
              "    background-color: var(--bg-color);\n",
              "    border: none;\n",
              "    border-radius: 50%;\n",
              "    cursor: pointer;\n",
              "    display: none;\n",
              "    fill: var(--fill-color);\n",
              "    height: 32px;\n",
              "    padding: 0;\n",
              "    width: 32px;\n",
              "  }\n",
              "\n",
              "  .colab-df-quickchart:hover {\n",
              "    background-color: var(--hover-bg-color);\n",
              "    box-shadow: 0 1px 2px rgba(60, 64, 67, 0.3), 0 1px 3px 1px rgba(60, 64, 67, 0.15);\n",
              "    fill: var(--button-hover-fill-color);\n",
              "  }\n",
              "\n",
              "  .colab-df-quickchart-complete:disabled,\n",
              "  .colab-df-quickchart-complete:disabled:hover {\n",
              "    background-color: var(--disabled-bg-color);\n",
              "    fill: var(--disabled-fill-color);\n",
              "    box-shadow: none;\n",
              "  }\n",
              "\n",
              "  .colab-df-spinner {\n",
              "    border: 2px solid var(--fill-color);\n",
              "    border-color: transparent;\n",
              "    border-bottom-color: var(--fill-color);\n",
              "    animation:\n",
              "      spin 1s steps(1) infinite;\n",
              "  }\n",
              "\n",
              "  @keyframes spin {\n",
              "    0% {\n",
              "      border-color: transparent;\n",
              "      border-bottom-color: var(--fill-color);\n",
              "      border-left-color: var(--fill-color);\n",
              "    }\n",
              "    20% {\n",
              "      border-color: transparent;\n",
              "      border-left-color: var(--fill-color);\n",
              "      border-top-color: var(--fill-color);\n",
              "    }\n",
              "    30% {\n",
              "      border-color: transparent;\n",
              "      border-left-color: var(--fill-color);\n",
              "      border-top-color: var(--fill-color);\n",
              "      border-right-color: var(--fill-color);\n",
              "    }\n",
              "    40% {\n",
              "      border-color: transparent;\n",
              "      border-right-color: var(--fill-color);\n",
              "      border-top-color: var(--fill-color);\n",
              "    }\n",
              "    60% {\n",
              "      border-color: transparent;\n",
              "      border-right-color: var(--fill-color);\n",
              "    }\n",
              "    80% {\n",
              "      border-color: transparent;\n",
              "      border-right-color: var(--fill-color);\n",
              "      border-bottom-color: var(--fill-color);\n",
              "    }\n",
              "    90% {\n",
              "      border-color: transparent;\n",
              "      border-bottom-color: var(--fill-color);\n",
              "    }\n",
              "  }\n",
              "</style>\n",
              "\n",
              "  <script>\n",
              "    async function quickchart(key) {\n",
              "      const quickchartButtonEl =\n",
              "        document.querySelector('#' + key + ' button');\n",
              "      quickchartButtonEl.disabled = true;  // To prevent multiple clicks.\n",
              "      quickchartButtonEl.classList.add('colab-df-spinner');\n",
              "      try {\n",
              "        const charts = await google.colab.kernel.invokeFunction(\n",
              "            'suggestCharts', [key], {});\n",
              "      } catch (error) {\n",
              "        console.error('Error during call to suggestCharts:', error);\n",
              "      }\n",
              "      quickchartButtonEl.classList.remove('colab-df-spinner');\n",
              "      quickchartButtonEl.classList.add('colab-df-quickchart-complete');\n",
              "    }\n",
              "    (() => {\n",
              "      let quickchartButtonEl =\n",
              "        document.querySelector('#df-60628737-65b5-4a10-a0ec-882ff0130b43 button');\n",
              "      quickchartButtonEl.style.display =\n",
              "        google.colab.kernel.accessAllowed ? 'block' : 'none';\n",
              "    })();\n",
              "  </script>\n",
              "</div>\n",
              "\n",
              "    </div>\n",
              "  </div>\n"
            ],
            "application/vnd.google.colaboratory.intrinsic+json": {
              "type": "dataframe",
              "summary": "{\n  \"name\": \"df\",\n  \"rows\": 10,\n  \"fields\": [\n    {\n      \"column\": \"label\",\n      \"properties\": {\n        \"dtype\": \"string\",\n        \"num_unique_values\": 10,\n        \"samples\": [\n          \"rock\",\n          \"jazz\",\n          \"disco\"\n        ],\n        \"semantic_type\": \"\",\n        \"description\": \"\"\n      }\n    },\n    {\n      \"column\": \"count\",\n      \"properties\": {\n        \"dtype\": \"number\",\n        \"std\": 1,\n        \"min\": 997,\n        \"max\": 1000,\n        \"num_unique_values\": 4,\n        \"samples\": [\n          999,\n          997,\n          1000\n        ],\n        \"semantic_type\": \"\",\n        \"description\": \"\"\n      }\n    }\n  ]\n}"
            }
          },
          "metadata": {},
          "execution_count": 16
        }
      ]
    },
    {
      "metadata": {
        "id": "JOXShnSdh3xN"
      },
      "cell_type": "markdown",
      "source": [
        "# Data Visualization"
      ]
    },
    {
      "metadata": {
        "trusted": true,
        "id": "pxAVR6U8h3xO"
      },
      "cell_type": "code",
      "source": [
        "audio_fp = '/kaggle/input/gtzan-dataset-music-genre-classification/Data/genres_original/blues/blues.00000.wav'\n",
        "audio_data, sr = librosa.load(audio_fp)\n",
        "audio_data, _ = librosa.effects.trim(audio_data)"
      ],
      "execution_count": null,
      "outputs": []
    },
    {
      "metadata": {
        "trusted": true,
        "id": "ikVVt7rhh3xO"
      },
      "cell_type": "code",
      "source": [
        "# play sample file\n",
        "IPython.display.Audio(audio_data, rate=sr)"
      ],
      "execution_count": null,
      "outputs": []
    },
    {
      "metadata": {
        "trusted": true,
        "id": "RjSrMNtNh3xO"
      },
      "cell_type": "code",
      "source": [
        "# plot sample file\n",
        "plt.figure(figsize=(15,5))\n",
        "lplt.waveplot(audio_data)\n",
        "plt.show()"
      ],
      "execution_count": null,
      "outputs": []
    },
    {
      "metadata": {
        "trusted": true,
        "id": "_NhTMXXRh3xO"
      },
      "cell_type": "code",
      "source": [
        "# Default FFT window size\n",
        "n_fft = 2048 # window size\n",
        "hop_length = 512 # window hop length for STFT\n",
        "\n",
        "stft = librosa.stft(audio_data, n_fft=n_fft, hop_length=hop_length)\n",
        "stft_db = librosa.amplitude_to_db(stft, ref=np.max)\n",
        "\n",
        "plt.figure(figsize=(12,4))\n",
        "lplt.specshow(stft, sr=sr, x_axis='time', y_axis='hz')\n",
        "plt.colorbar()\n",
        "plt.title(\"Spectrogram with amplitude\")\n",
        "plt.show()\n",
        "\n",
        "plt.figure(figsize=(12,4))\n",
        "lplt.specshow(stft_db, sr=sr, x_axis='time', y_axis='log', cmap='cool')\n",
        "plt.colorbar()\n",
        "plt.title(\"Spectrogram with decibel log\")\n",
        "plt.show()"
      ],
      "execution_count": null,
      "outputs": []
    },
    {
      "metadata": {
        "trusted": true,
        "id": "4UKquWvEh3xP"
      },
      "cell_type": "code",
      "source": [
        "# plot zoomed audio wave\n",
        "start = 1000\n",
        "end = 1200\n",
        "plt.figure(figsize=(16,4))\n",
        "plt.plot(audio_data[start:end])\n",
        "plt.show()"
      ],
      "execution_count": null,
      "outputs": []
    },
    {
      "metadata": {
        "trusted": true,
        "id": "ZU06hGsah3xP"
      },
      "cell_type": "code",
      "source": [
        "mel_spec = librosa.feature.melspectrogram(audio_data, sr=sr)\n",
        "mel_spec_db = librosa.amplitude_to_db(mel_spec, ref=np.max)\n",
        "plt.figure(figsize=(16,6))\n",
        "lplt.specshow(mel_spec_db, sr=sr, hop_length=hop_length, x_axis='time', y_axis='log', cmap='cool')\n",
        "plt.colorbar()\n",
        "plt.title(\"Mel Spectrogram\")\n",
        "plt.show()"
      ],
      "execution_count": null,
      "outputs": []
    },
    {
      "metadata": {
        "trusted": true,
        "id": "CetcQ0lhh3xP"
      },
      "cell_type": "code",
      "source": [
        "chroma = librosa.feature.chroma_stft(audio_data, sr=sr)\n",
        "plt.figure(figsize=(16,6))\n",
        "lplt.specshow(chroma, sr=sr, x_axis='time', y_axis='chroma', cmap='coolwarm')\n",
        "plt.colorbar()\n",
        "plt.title(\"Chroma Features\")\n",
        "plt.show()"
      ],
      "execution_count": null,
      "outputs": []
    },
    {
      "metadata": {
        "trusted": true,
        "id": "b_BKkRBLh3xP"
      },
      "cell_type": "code",
      "source": [
        "# Computing the Correlation Matrix\n",
        "spike_cols = [col for col in df.columns if 'mean' in col]\n",
        "corr = df[spike_cols].corr()\n",
        "\n",
        "# Generate a mask for the upper triangle\n",
        "mask = np.triu(np.ones_like(corr, dtype=np.bool))\n",
        "\n",
        "# Set up the matplotlib figure\n",
        "f, ax = plt.subplots(figsize=(16, 11));\n",
        "\n",
        "# Generate a custom diverging colormap\n",
        "cmap = sns.diverging_palette(0, 25, as_cmap=True, s = 90, l = 45, n = 5)\n",
        "\n",
        "# Draw the heatmap with the mask and correct aspect ratio\n",
        "sns.heatmap(corr, mask=mask, cmap=cmap, vmax=.3, center=0,\n",
        "            square=True, linewidths=.5, cbar_kws={\"shrink\": .5})\n",
        "\n",
        "plt.title('Correlation Heatmap (for the MEAN variables)', fontsize = 20)\n",
        "plt.xticks(fontsize = 10)\n",
        "plt.yticks(fontsize = 10);\n",
        "plt.savefig(\"Corr_Heatmap.png\")"
      ],
      "execution_count": null,
      "outputs": []
    },
    {
      "metadata": {
        "trusted": true,
        "id": "q0TkP9tZh3xP"
      },
      "cell_type": "code",
      "source": [
        "x = df[[\"label\", \"tempo\"]]\n",
        "\n",
        "fig, ax = plt.subplots(figsize=(16, 8));\n",
        "sns.boxplot(x = \"label\", y = \"tempo\", data = x, palette = 'husl');\n",
        "\n",
        "plt.title('BPM Boxplot for Genres', fontsize = 20)\n",
        "plt.xticks(fontsize = 14)\n",
        "plt.yticks(fontsize = 10);\n",
        "plt.xlabel(\"Genre\", fontsize = 15)\n",
        "plt.ylabel(\"BPM\", fontsize = 15)\n",
        "plt.savefig(\"BPM_Boxplot.png\")"
      ],
      "execution_count": null,
      "outputs": []
    },
    {
      "metadata": {
        "trusted": true,
        "id": "5Ymp0rz4h3xP"
      },
      "cell_type": "code",
      "source": [
        "data = df.iloc[0:, 1:]\n",
        "y = data['label']\n",
        "X = data.loc[:, data.columns != 'label']\n",
        "\n",
        "# normalize\n",
        "cols = X.columns\n",
        "min_max_scaler = skp.MinMaxScaler()\n",
        "np_scaled = min_max_scaler.fit_transform(X)\n",
        "X = pd.DataFrame(np_scaled, columns = cols)\n",
        "\n",
        "# Top 2 pca components\n",
        "from sklearn.decomposition import PCA\n",
        "\n",
        "pca = PCA(n_components=2)\n",
        "principalComponents = pca.fit_transform(X)\n",
        "principalDf = pd.DataFrame(data = principalComponents, columns = ['pc1', 'pc2'])\n",
        "\n",
        "# concatenate with target label\n",
        "finalDf = pd.concat([principalDf, y], axis = 1)\n",
        "\n",
        "plt.figure(figsize = (16, 9))\n",
        "sns.scatterplot(x = \"pc1\", y = \"pc2\", data = finalDf, hue = \"label\", alpha = 0.7, s = 100);\n",
        "\n",
        "plt.title('PCA on Genres', fontsize = 20)\n",
        "plt.xticks(fontsize = 14)\n",
        "plt.yticks(fontsize = 10);\n",
        "plt.xlabel(\"Principal Component 1\", fontsize = 15)\n",
        "plt.ylabel(\"Principal Component 2\", fontsize = 15)\n",
        "plt.savefig(\"PCA_Scattert.png\")"
      ],
      "execution_count": null,
      "outputs": []
    },
    {
      "metadata": {
        "id": "11hSAHpCh3xQ"
      },
      "cell_type": "markdown",
      "source": [
        "# Data Preparation\n",
        "\n",
        "- Treat missing values.\n",
        "- Outlier Treatment\n",
        "- Define dummy variables for categorical variables."
      ]
    },
    {
      "metadata": {
        "id": "lWaGZ8Uwh3xQ"
      },
      "cell_type": "markdown",
      "source": [
        "## Missing Value Treatment"
      ]
    },
    {
      "metadata": {
        "scrolled": true,
        "trusted": true,
        "id": "xMGjz46dh3xQ"
      },
      "cell_type": "code",
      "source": [
        "# find all columns with any NA values\n",
        "print(\"Columns with NA values are\",list(df.columns[df.isnull().any()]))"
      ],
      "execution_count": null,
      "outputs": []
    },
    {
      "metadata": {
        "id": "v9-bFxHjh3xQ"
      },
      "cell_type": "markdown",
      "source": [
        "`No null values in the dataset`\n",
        "\n",
        "\n",
        "\n",
        "`There are no categorical variable as such. Hence, Dummy variable creation is not needed.`"
      ]
    },
    {
      "metadata": {
        "id": "tOSqCQzTh3xQ"
      },
      "cell_type": "markdown",
      "source": [
        "## Encode Genre Label"
      ]
    },
    {
      "metadata": {
        "trusted": true,
        "id": "_mpEQSSEh3xQ"
      },
      "cell_type": "code",
      "source": [
        "# map labels to index\n",
        "label_index = dict()\n",
        "index_label = dict()\n",
        "for i, x in enumerate(df.label.unique()):\n",
        "    label_index[x] = i\n",
        "    index_label[i] = x\n",
        "print(label_index)\n",
        "print(index_label)"
      ],
      "execution_count": null,
      "outputs": []
    },
    {
      "metadata": {
        "trusted": true,
        "id": "GrzDm-nah3xQ"
      },
      "cell_type": "code",
      "source": [
        "# update labels in df to index\n",
        "df.label = [label_index[l] for l in df.label]"
      ],
      "execution_count": null,
      "outputs": []
    },
    {
      "metadata": {
        "id": "BgL2i3-bh3xR"
      },
      "cell_type": "markdown",
      "source": [
        "# Split Train, Dev & Test Sets"
      ]
    },
    {
      "metadata": {
        "trusted": true,
        "id": "ipdz8B55h3xR"
      },
      "cell_type": "code",
      "source": [
        "# shuffle samples\n",
        "df_shuffle = df.sample(frac=1, random_state=seed).reset_index(drop=True)"
      ],
      "execution_count": null,
      "outputs": []
    },
    {
      "metadata": {
        "trusted": true,
        "id": "JlsokMMAh3xR"
      },
      "cell_type": "code",
      "source": [
        "# remove irrelevant columns\n",
        "df_shuffle.drop(['filename', 'length'], axis=1, inplace=True)\n",
        "df_y = df_shuffle.pop('label')\n",
        "df_X = df_shuffle\n",
        "\n",
        "# split into train dev and test\n",
        "X_train, df_test_valid_X, y_train, df_test_valid_y = skms.train_test_split(df_X, df_y, train_size=0.7, random_state=seed, stratify=df_y)\n",
        "X_dev, X_test, y_dev, y_test = skms.train_test_split(df_test_valid_X, df_test_valid_y, train_size=0.66, random_state=seed, stratify=df_test_valid_y)"
      ],
      "execution_count": null,
      "outputs": []
    },
    {
      "metadata": {
        "trusted": true,
        "id": "G1f8avhrh3xR"
      },
      "cell_type": "code",
      "source": [
        "print(f\"Train set has {X_train.shape[0]} records out of {len(df_shuffle)} which is {round(X_train.shape[0]/len(df_shuffle)*100)}%\")\n",
        "print(f\"Dev set has {X_dev.shape[0]} records out of {len(df_shuffle)} which is {round(X_dev.shape[0]/len(df_shuffle)*100)}%\")\n",
        "print(f\"Test set has {X_test.shape[0]} records out of {len(df_shuffle)} which is {round(X_test.shape[0]/len(df_shuffle)*100)}%\")"
      ],
      "execution_count": null,
      "outputs": []
    },
    {
      "metadata": {
        "trusted": true,
        "id": "crl1K7NQh3xR"
      },
      "cell_type": "code",
      "source": [
        "print(y_train.value_counts()[0]/y_train.shape[0]*100)\n",
        "print(y_dev.value_counts()[0]/y_dev.shape[0]*100)\n",
        "print(y_test.value_counts()[0]/y_test.shape[0]*100)"
      ],
      "execution_count": null,
      "outputs": []
    },
    {
      "metadata": {
        "id": "5jdsyf94h3xR"
      },
      "cell_type": "markdown",
      "source": [
        "## Scale the Features"
      ]
    },
    {
      "metadata": {
        "trusted": true,
        "id": "lcbYALTEh3xR"
      },
      "cell_type": "code",
      "source": [
        "scaler = skp.StandardScaler()\n",
        "X_train = pd.DataFrame(scaler.fit_transform(X_train), columns=X_train.columns)\n",
        "X_dev = pd.DataFrame(scaler.transform(X_dev), columns=X_train.columns)\n",
        "X_test = pd.DataFrame(scaler.transform(X_test), columns=X_train.columns)"
      ],
      "execution_count": null,
      "outputs": []
    },
    {
      "metadata": {
        "id": "MQ-iRtBnh3xS"
      },
      "cell_type": "markdown",
      "source": [
        "# Model Building"
      ]
    },
    {
      "metadata": {
        "trusted": true,
        "id": "d0oUgjgyh3xS"
      },
      "cell_type": "code",
      "source": [
        "import tensorflow as tf\n",
        "print(\"TF version:-\", tf.__version__)\n",
        "import keras as k\n",
        "tf.random.set_seed(seed)"
      ],
      "execution_count": null,
      "outputs": []
    },
    {
      "metadata": {
        "scrolled": true,
        "trusted": true,
        "id": "ANt0t0hwh3xS"
      },
      "cell_type": "code",
      "source": [
        "ACCURACY_THRESHOLD = 0.94\n",
        "\n",
        "class myCallback(k.callbacks.Callback):\n",
        "    def on_epoch_end(self, epoch, logs={}):\n",
        "        if(logs.get('val_accuracy') > ACCURACY_THRESHOLD):\n",
        "            print(\"\\n\\nStopping training as we have reached %2.2f%% accuracy!\" %(ACCURACY_THRESHOLD*100))\n",
        "            self.model.stop_training = True\n",
        "\n",
        "def trainModel(model, epochs, optimizer):\n",
        "    batch_size = 128\n",
        "    callback = myCallback()\n",
        "    model.compile(optimizer=optimizer,\n",
        "                  loss='sparse_categorical_crossentropy',\n",
        "                  metrics='accuracy'\n",
        "    )\n",
        "    return model.fit(X_train, y_train, validation_data=(X_dev, y_dev), epochs=epochs,\n",
        "                     batch_size=batch_size, callbacks=[callback])\n",
        "\n",
        "def plotHistory(history):\n",
        "    print(\"Max. Validation Accuracy\",max(history.history[\"val_accuracy\"]))\n",
        "    pd.DataFrame(history.history).plot(figsize=(12,6))\n",
        "    plt.show()\n"
      ],
      "execution_count": null,
      "outputs": []
    },
    {
      "metadata": {
        "scrolled": true,
        "trusted": true,
        "id": "KUTpfzeKh3xS"
      },
      "cell_type": "code",
      "source": [
        "model_1 = k.models.Sequential([\n",
        "    k.layers.Dense(256, activation='relu', input_shape=(X_train.shape[1],)),\n",
        "    k.layers.Dense(128, activation='relu'),\n",
        "    k.layers.Dense(64, activation='relu'),\n",
        "    k.layers.Dense(10, activation='softmax'),\n",
        "])\n",
        "print(model_1.summary())\n",
        "model_1_history = trainModel(model=model_1, epochs=70, optimizer='adam')"
      ],
      "execution_count": null,
      "outputs": []
    },
    {
      "metadata": {
        "trusted": true,
        "id": "-P0WGwoph3xS"
      },
      "cell_type": "code",
      "source": [
        "plotHistory(model_1_history)"
      ],
      "execution_count": null,
      "outputs": []
    },
    {
      "metadata": {
        "scrolled": true,
        "trusted": true,
        "id": "c_Fk3scvh3xS"
      },
      "cell_type": "code",
      "source": [
        "model_2 = k.models.Sequential([\n",
        "    k.layers.Dense(512, activation='relu', input_shape=(X_train.shape[1],)),\n",
        "    k.layers.Dropout(0.2),\n",
        "\n",
        "    k.layers.Dense(256, activation='relu'),\n",
        "    k.layers.Dropout(0.2),\n",
        "\n",
        "    k.layers.Dense(128, activation='relu'),\n",
        "    k.layers.Dropout(0.2),\n",
        "\n",
        "    k.layers.Dense(64, activation='relu'),\n",
        "    k.layers.Dropout(0.2),\n",
        "\n",
        "    k.layers.Dense(10, activation='softmax'),\n",
        "])\n",
        "print(model_2.summary())\n",
        "model_2_history = trainModel(model=model_2, epochs=100, optimizer='adam')"
      ],
      "execution_count": null,
      "outputs": []
    },
    {
      "metadata": {
        "trusted": true,
        "id": "N2TvQ2_yh3xX"
      },
      "cell_type": "code",
      "source": [
        "plotHistory(model_2_history)"
      ],
      "execution_count": null,
      "outputs": []
    },
    {
      "metadata": {
        "scrolled": true,
        "trusted": true,
        "id": "iwzYkNgih3xX"
      },
      "cell_type": "code",
      "source": [
        "model_3 = k.models.Sequential([\n",
        "    k.layers.Dense(512, activation='relu', input_shape=(X_train.shape[1],)),\n",
        "    k.layers.Dropout(0.2),\n",
        "\n",
        "    k.layers.Dense(256, activation='relu'),\n",
        "    k.layers.Dropout(0.2),\n",
        "\n",
        "    k.layers.Dense(128, activation='relu'),\n",
        "    k.layers.Dropout(0.2),\n",
        "\n",
        "    k.layers.Dense(64, activation='relu'),\n",
        "    k.layers.Dropout(0.2),\n",
        "\n",
        "    k.layers.Dense(10, activation='softmax'),\n",
        "])\n",
        "print(model_3.summary())\n",
        "model_3_history = trainModel(model=model_3, epochs=700, optimizer='sgd')"
      ],
      "execution_count": null,
      "outputs": []
    },
    {
      "metadata": {
        "trusted": true,
        "id": "KNHBNi_sh3xX"
      },
      "cell_type": "code",
      "source": [
        "plotHistory(model_3_history)"
      ],
      "execution_count": null,
      "outputs": []
    },
    {
      "metadata": {
        "scrolled": true,
        "trusted": true,
        "id": "BTOaFXQeh3xX"
      },
      "cell_type": "code",
      "source": [
        "model_4 = k.models.Sequential([\n",
        "    k.layers.Dense(1024, activation='relu', input_shape=(X_train.shape[1],)),\n",
        "    k.layers.Dropout(0.3),\n",
        "\n",
        "    k.layers.Dense(512, activation='relu'),\n",
        "    k.layers.Dropout(0.3),\n",
        "\n",
        "    k.layers.Dense(256, activation='relu'),\n",
        "    k.layers.Dropout(0.3),\n",
        "\n",
        "    k.layers.Dense(128, activation='relu'),\n",
        "    k.layers.Dropout(0.3),\n",
        "\n",
        "    k.layers.Dense(64, activation='relu'),\n",
        "    k.layers.Dropout(0.3),\n",
        "\n",
        "    k.layers.Dense(10, activation='softmax'),\n",
        "])\n",
        "print(model_4.summary())\n",
        "model_4_history = trainModel(model=model_4, epochs=500, optimizer='rmsprop')"
      ],
      "execution_count": null,
      "outputs": []
    },
    {
      "metadata": {
        "trusted": true,
        "id": "xTD3zXuUh3xY"
      },
      "cell_type": "code",
      "source": [
        "plotHistory(model_4_history)"
      ],
      "execution_count": null,
      "outputs": []
    },
    {
      "metadata": {
        "id": "ig3Xwkrph3xY"
      },
      "cell_type": "markdown",
      "source": [
        "# Model Evaluation"
      ]
    },
    {
      "metadata": {
        "trusted": true,
        "id": "rOhfueQjh3xY"
      },
      "cell_type": "code",
      "source": [
        "test_loss, test_acc  = model_4.evaluate(X_test, y_test, batch_size=128)\n",
        "print(\"The test Loss is :\",test_loss)\n",
        "print(\"\\nThe Best test Accuracy is :\",test_acc*100)"
      ],
      "execution_count": null,
      "outputs": []
    }
  ],
  "metadata": {
    "kernelspec": {
      "language": "python",
      "display_name": "Python 3",
      "name": "python3"
    },
    "language_info": {
      "pygments_lexer": "ipython3",
      "nbconvert_exporter": "python",
      "version": "3.6.4",
      "file_extension": ".py",
      "codemirror_mode": {
        "name": "ipython",
        "version": 3
      },
      "name": "python",
      "mimetype": "text/x-python"
    },
    "colab": {
      "provenance": [],
      "include_colab_link": true
    }
  },
  "nbformat": 4,
  "nbformat_minor": 0
}