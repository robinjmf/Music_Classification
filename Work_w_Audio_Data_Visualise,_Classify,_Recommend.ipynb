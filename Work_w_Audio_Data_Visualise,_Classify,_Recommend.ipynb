{
  "cells": [
    {
      "cell_type": "markdown",
      "metadata": {
        "id": "view-in-github",
        "colab_type": "text"
      },
      "source": [
        "<a href=\"https://colab.research.google.com/github/robinjmf/Audio_Analysis/blob/main/Work_w_Audio_Data_Visualise%2C_Classify%2C_Recommend.ipynb\" target=\"_parent\"><img src=\"https://colab.research.google.com/assets/colab-badge.svg\" alt=\"Open In Colab\"/></a>"
      ]
    },
    {
      "source": [
        "\n",
        "# IMPORTANT: RUN THIS CELL IN ORDER TO IMPORT YOUR KAGGLE DATA SOURCES\n",
        "# TO THE CORRECT LOCATION (/kaggle/input) IN YOUR NOTEBOOK,\n",
        "# THEN FEEL FREE TO DELETE THIS CELL.\n",
        "# NOTE: THIS NOTEBOOK ENVIRONMENT DIFFERS FROM KAGGLE'S PYTHON\n",
        "# ENVIRONMENT SO THERE MAY BE MISSING LIBRARIES USED BY YOUR\n",
        "# NOTEBOOK.\n",
        "\n",
        "import os\n",
        "import sys\n",
        "from tempfile import NamedTemporaryFile\n",
        "from urllib.request import urlopen\n",
        "from urllib.parse import unquote, urlparse\n",
        "from urllib.error import HTTPError\n",
        "from zipfile import ZipFile\n",
        "import tarfile\n",
        "import shutil\n",
        "\n",
        "CHUNK_SIZE = 40960\n",
        "DATA_SOURCE_MAPPING = 'gtzan-dataset-music-genre-classification:https%3A%2F%2Fstorage.googleapis.com%2Fkaggle-data-sets%2F568973%2F1032238%2Fbundle%2Farchive.zip%3FX-Goog-Algorithm%3DGOOG4-RSA-SHA256%26X-Goog-Credential%3Dgcp-kaggle-com%2540kaggle-161607.iam.gserviceaccount.com%252F20240820%252Fauto%252Fstorage%252Fgoog4_request%26X-Goog-Date%3D20240820T064437Z%26X-Goog-Expires%3D259200%26X-Goog-SignedHeaders%3Dhost%26X-Goog-Signature%3D08d94ffe7eed64d2155396f469803b8d37b322cffa979911e53774ef8f01fd82436564aa0420bb5323e954622c71fc6a2eab2153eecf70d47360f996894f1c14064bd723b1e75ea705fe819bcade9772288146379a14498b6bac32ecd9deb6054c51db2fd9738d99ce0a2619a860ebdd684286466a7ff8f3165d258fbda1d857732594f2d22e7d5808daab7cba9b48fa838ff82afae31aca10ead39f5e57fbeac9afc205b23b3929cb63fd88681fde9880ee05eed845051b1e6fbbf5fd4cfe446d5131eefcf2e63820637f1849fa9f6bb5e1b205ae96046a0931111dd1ad789c6f9728be6499926614ebfd44334c052f4878407320d77ea4d515eeac780e4ad0'\n",
        "\n",
        "KAGGLE_INPUT_PATH='/kaggle/input'\n",
        "KAGGLE_WORKING_PATH='/kaggle/working'\n",
        "KAGGLE_SYMLINK='kaggle'\n",
        "\n",
        "!umount /kaggle/input/ 2> /dev/null\n",
        "shutil.rmtree('/kaggle/input', ignore_errors=True)\n",
        "os.makedirs(KAGGLE_INPUT_PATH, 0o777, exist_ok=True)\n",
        "os.makedirs(KAGGLE_WORKING_PATH, 0o777, exist_ok=True)\n",
        "\n",
        "try:\n",
        "  os.symlink(KAGGLE_INPUT_PATH, os.path.join(\"..\", 'input'), target_is_directory=True)\n",
        "except FileExistsError:\n",
        "  pass\n",
        "try:\n",
        "  os.symlink(KAGGLE_WORKING_PATH, os.path.join(\"..\", 'working'), target_is_directory=True)\n",
        "except FileExistsError:\n",
        "  pass\n",
        "\n",
        "for data_source_mapping in DATA_SOURCE_MAPPING.split(','):\n",
        "    directory, download_url_encoded = data_source_mapping.split(':')\n",
        "    download_url = unquote(download_url_encoded)\n",
        "    filename = urlparse(download_url).path\n",
        "    destination_path = os.path.join(KAGGLE_INPUT_PATH, directory)\n",
        "    try:\n",
        "        with urlopen(download_url) as fileres, NamedTemporaryFile() as tfile:\n",
        "            total_length = fileres.headers['content-length']\n",
        "            print(f'Downloading {directory}, {total_length} bytes compressed')\n",
        "            dl = 0\n",
        "            data = fileres.read(CHUNK_SIZE)\n",
        "            while len(data) > 0:\n",
        "                dl += len(data)\n",
        "                tfile.write(data)\n",
        "                done = int(50 * dl / int(total_length))\n",
        "                sys.stdout.write(f\"\\r[{'=' * done}{' ' * (50-done)}] {dl} bytes downloaded\")\n",
        "                sys.stdout.flush()\n",
        "                data = fileres.read(CHUNK_SIZE)\n",
        "            if filename.endswith('.zip'):\n",
        "              with ZipFile(tfile) as zfile:\n",
        "                zfile.extractall(destination_path)\n",
        "            else:\n",
        "              with tarfile.open(tfile.name) as tarfile:\n",
        "                tarfile.extractall(destination_path)\n",
        "            print(f'\\nDownloaded and uncompressed: {directory}')\n",
        "    except HTTPError as e:\n",
        "        print(f'Failed to load (likely expired) {download_url} to path {destination_path}')\n",
        "        continue\n",
        "    except OSError as e:\n",
        "        print(f'Failed to load {download_url} to path {destination_path}')\n",
        "        continue\n",
        "\n",
        "print('Data source import complete.')\n"
      ],
      "metadata": {
        "id": "6ds4eQs_ixni"
      },
      "cell_type": "code",
      "outputs": [],
      "execution_count": null
    },
    {
      "metadata": {
        "id": "N2hkimSFixnl"
      },
      "cell_type": "markdown",
      "source": [
        "![](https://i.imgur.com/LZB5LEa.png)\n",
        "\n",
        "# Introduction\n",
        "\n",
        "### Why are we doing this?\n",
        "Music. Experts have been trying for a long time to understand sound and what differenciates one song from another. How to visualize sound. What makes a tone different from another.\n",
        "\n",
        "In this notebook we will go through an in depth analysis of sound and how we can **visualize, classify and ultimately understand** it.\n",
        "\n",
        "### The data:\n",
        "* **genres original** - A collection of 10 genres with 100 audio files each, all having a length of 30 seconds (the famous GTZAN dataset, the MNIST of sounds)\n",
        "* **images original** - A visual representation for each audio file. One way to classify data is through neural networks. Because NNs (like CNN, what we will be using today) usually take in some sort of image representation, the audio files were converted to Mel Spectrograms to make this possible (we'll be talking about this more in depth later)\n",
        "* **2 CSV files** - Containing features of the audio files. One file has for each song (30 seconds long) a mean and variance computed over multiple features that can be extracted from an audio file (more in depth later). The other file has the same structure, but the songs were split before into 3 seconds audio files (this way increasing 10 times the amount of data we fuel into our classification models). *With data, more is always better*.\n",
        "\n",
        "### Purpose:\n",
        "1. We want to understand **what is an Audio file**. What features we can visualize on this kind of data.\n",
        "2. **EDA**. ALways good, here very necessary.\n",
        "3. **Genres Classification** on the 3 seconds CSV file (trying multiple models and identify which has the best accuracy)\n",
        "4. A **recommender system**: given a song, give me top X songs most similar.\n",
        "\n",
        "### Credits and Acknowledgements:\n",
        "* This was a team project for uni, so the effort in creating this wasn't only my own. So, I want to thank **James Wiltshire, Lauren O'Hare and Minyu Lei** for being the best teammates ever and for having so much fun and learning so much during the 3 days we worked on this.\n",
        "* You can do a lot of documentation online, but an article that helped us a lot in doing this was [Parul Pandey's](https://www.kaggle.com/parulpandey) notebook for [Music Genre Classification with Python](https://towardsdatascience.com/music-genre-classification-with-python-c714d032f0d8)"
      ]
    },
    {
      "metadata": {
        "_uuid": "8f2839f25d086af736a60e9eeb907d3b93b6e0e5",
        "_cell_guid": "b1076dfc-b9ad-4769-8c92-a6c4dae69d19",
        "trusted": true,
        "id": "Kr0wFRGJixnn"
      },
      "cell_type": "code",
      "source": [
        "# Usual Libraries\n",
        "import pandas as pd\n",
        "import numpy as np\n",
        "import seaborn as sns\n",
        "import matplotlib.pyplot as plt\n",
        "%matplotlib inline\n",
        "import sklearn\n",
        "\n",
        "# Librosa (the mother of audio files)\n",
        "import librosa\n",
        "import librosa.display\n",
        "import IPython.display as ipd\n",
        "import warnings\n",
        "warnings.filterwarnings('ignore')"
      ],
      "execution_count": null,
      "outputs": []
    },
    {
      "metadata": {
        "trusted": true,
        "id": "j6z3vQyAixno"
      },
      "cell_type": "code",
      "source": [
        "import os\n",
        "general_path = '../input/gtzan-dataset-music-genre-classification/Data'\n",
        "print(list(os.listdir(f'{general_path}/genres_original/')))"
      ],
      "execution_count": null,
      "outputs": []
    },
    {
      "metadata": {
        "id": "03UgvQe3ixnp"
      },
      "cell_type": "markdown",
      "source": [
        "# Explore Audio Data\n",
        "\n",
        "We will use `librosa`, which is the mother of audio files.\n",
        "\n",
        "## Understanding Audio\n",
        "Let's first Explore our Audio Data to see how it looks (we'll work with `reggae.00036.wav` file).\n",
        "\n",
        "* **Sound**: sequence of vibrations in varying pressure strengths (`y`)\n",
        "* The **sample rate** (`sr`) is the number of samples of audio carried per second, measured in Hz or kHz"
      ]
    },
    {
      "metadata": {
        "_uuid": "d629ff2d2480ee46fbb7e2d37f6b5fab8052498a",
        "_cell_guid": "79c7e3d0-c299-4dcb-8224-4455121ee9b0",
        "trusted": true,
        "id": "Z1w44wpIixnp"
      },
      "cell_type": "code",
      "source": [
        "# Importing 1 file\n",
        "y, sr = librosa.load(f'{general_path}/genres_original/reggae/reggae.00036.wav')\n",
        "\n",
        "print('y:', y, '\\n')\n",
        "print('y shape:', np.shape(y), '\\n')\n",
        "print('Sample Rate (KHz):', sr, '\\n')\n",
        "\n",
        "# Verify length of the audio\n",
        "print('Check Len of Audio:', 661794/22050)"
      ],
      "execution_count": null,
      "outputs": []
    },
    {
      "metadata": {
        "trusted": true,
        "id": "DRNyJnFkixnp"
      },
      "cell_type": "code",
      "source": [
        "# Trim leading and trailing silence from an audio signal (silence before and after the actual audio)\n",
        "audio_file, _ = librosa.effects.trim(y)\n",
        "\n",
        "# the result is an numpy ndarray\n",
        "print('Audio File:', audio_file, '\\n')\n",
        "print('Audio File shape:', np.shape(audio_file))"
      ],
      "execution_count": null,
      "outputs": []
    },
    {
      "metadata": {
        "id": "zOliZJZRixnq"
      },
      "cell_type": "markdown",
      "source": [
        "### 2D Representation: Sound Waves"
      ]
    },
    {
      "metadata": {
        "trusted": true,
        "id": "iOoxdUpjixnq"
      },
      "cell_type": "code",
      "source": [
        "plt.figure(figsize = (16, 6))\n",
        "librosa.display.waveplot(y = audio_file, sr = sr, color = \"#A300F9\");\n",
        "plt.title(\"Sound Waves in Reggae 36\", fontsize = 23);"
      ],
      "execution_count": null,
      "outputs": []
    },
    {
      "metadata": {
        "id": "uJtX9EEpixnq"
      },
      "cell_type": "markdown",
      "source": [
        "### Fourier Transform\n",
        "\n",
        "* Function that gets a signal in the time domain as input, and outputs its decomposition into frequencies\n",
        "* Transform both the y-axis (frequency) to log scale, and the “color” axis (amplitude) to Decibels, which is approx. the log scale of amplitudes."
      ]
    },
    {
      "metadata": {
        "trusted": true,
        "id": "8LkKVHeyixn1"
      },
      "cell_type": "code",
      "source": [
        "# Default FFT window size\n",
        "n_fft = 2048 # FFT window size\n",
        "hop_length = 512 # number audio of frames between STFT columns (looks like a good default)\n",
        "\n",
        "# Short-time Fourier transform (STFT)\n",
        "D = np.abs(librosa.stft(audio_file, n_fft = n_fft, hop_length = hop_length))\n",
        "\n",
        "print('Shape of D object:', np.shape(D))"
      ],
      "execution_count": null,
      "outputs": []
    },
    {
      "metadata": {
        "trusted": true,
        "id": "mrVgUY8Xixn2"
      },
      "cell_type": "code",
      "source": [
        "plt.figure(figsize = (16, 6))\n",
        "plt.plot(D);"
      ],
      "execution_count": null,
      "outputs": []
    },
    {
      "metadata": {
        "id": "gcKPlbrPixn2"
      },
      "cell_type": "markdown",
      "source": [
        "### The Spectrogram\n",
        "\n",
        "* What is a spectrogram? A spectrogram is a visual representation of the spectrum of frequencies of a signal as it varies with time. When applied to an audio signal, spectrograms are sometimes called sonographs, voiceprints, or voicegrams ([wiki](https://en.wikipedia.org/wiki/Spectrogram)).\n",
        "* Here we convert the frequency axis to a logarithmic one."
      ]
    },
    {
      "metadata": {
        "trusted": true,
        "id": "UqHhFifHixn3"
      },
      "cell_type": "code",
      "source": [
        "# Convert an amplitude spectrogram to Decibels-scaled spectrogram.\n",
        "DB = librosa.amplitude_to_db(D, ref = np.max)\n",
        "\n",
        "# Creating the Spectogram\n",
        "plt.figure(figsize = (16, 6))\n",
        "librosa.display.specshow(DB, sr = sr, hop_length = hop_length, x_axis = 'time', y_axis = 'log',\n",
        "                        cmap = 'cool')\n",
        "plt.colorbar();"
      ],
      "execution_count": null,
      "outputs": []
    },
    {
      "metadata": {
        "id": "c210RzQlixn4"
      },
      "cell_type": "markdown",
      "source": [
        "### Mel Spectrogram\n",
        "\n",
        "* The Mel Scale, mathematically speaking, is the result of some non-linear transformation of the frequency scale. The Mel Spectrogram is a normal Spectrogram, but with a Mel Scale on the y axis."
      ]
    },
    {
      "metadata": {
        "trusted": true,
        "id": "DSjox4vBixn4"
      },
      "cell_type": "code",
      "source": [
        "y, sr = librosa.load(f'{general_path}/genres_original/metal/metal.00036.wav')\n",
        "y, _ = librosa.effects.trim(y)\n",
        "\n",
        "\n",
        "S = librosa.feature.melspectrogram(y, sr=sr)\n",
        "S_DB = librosa.amplitude_to_db(S, ref=np.max)\n",
        "plt.figure(figsize = (16, 6))\n",
        "librosa.display.specshow(S_DB, sr=sr, hop_length=hop_length, x_axis = 'time', y_axis = 'log',\n",
        "                        cmap = 'cool');\n",
        "plt.colorbar();\n",
        "plt.title(\"Metal Mel Spectrogram\", fontsize = 23);"
      ],
      "execution_count": null,
      "outputs": []
    },
    {
      "metadata": {
        "trusted": true,
        "id": "Npa6hMdSixn5"
      },
      "cell_type": "code",
      "source": [
        "y, sr = librosa.load(f'{general_path}/genres_original/classical/classical.00036.wav')\n",
        "y, _ = librosa.effects.trim(y)\n",
        "\n",
        "\n",
        "S = librosa.feature.melspectrogram(y, sr=sr)\n",
        "S_DB = librosa.amplitude_to_db(S, ref=np.max)\n",
        "plt.figure(figsize = (16, 6))\n",
        "librosa.display.specshow(S_DB, sr=sr, hop_length=hop_length, x_axis = 'time', y_axis = 'log',\n",
        "                        cmap = 'cool');\n",
        "plt.colorbar();\n",
        "plt.title(\"Classical Mel Spectrogram\", fontsize = 23);"
      ],
      "execution_count": null,
      "outputs": []
    },
    {
      "metadata": {
        "id": "RUlgpe5tixn5"
      },
      "cell_type": "markdown",
      "source": [
        "## Audio Features\n",
        "\n",
        "### Zero Crossing Rate\n",
        "\n",
        "* the rate at which the signal changes from positive to negative or back."
      ]
    },
    {
      "metadata": {
        "trusted": true,
        "id": "m7Y-Ak1Gixn5"
      },
      "cell_type": "code",
      "source": [
        "# Total zero_crossings in our 1 song\n",
        "zero_crossings = librosa.zero_crossings(audio_file, pad=False)\n",
        "print(sum(zero_crossings))"
      ],
      "execution_count": null,
      "outputs": []
    },
    {
      "metadata": {
        "id": "jHKLIWUeixn5"
      },
      "cell_type": "markdown",
      "source": [
        "### Harmonics and Perceptrual\n",
        "\n",
        "* Harmonics are characteristichs that human years can't distinguish (represents the sound color)\n",
        "* Perceptrual understanding shock wave represents the sound rhythm and emotion"
      ]
    },
    {
      "metadata": {
        "trusted": true,
        "id": "fatjLFYpixn5"
      },
      "cell_type": "code",
      "source": [
        "y_harm, y_perc = librosa.effects.hpss(audio_file)\n",
        "\n",
        "plt.figure(figsize = (16, 6))\n",
        "plt.plot(y_harm, color = '#A300F9');\n",
        "plt.plot(y_perc, color = '#FFB100');"
      ],
      "execution_count": null,
      "outputs": []
    },
    {
      "metadata": {
        "id": "Ber3mv7Wixn6"
      },
      "cell_type": "markdown",
      "source": [
        "### Tempo BMP (beats per minute)\n",
        "\n",
        "Dynamic programming beat tracker."
      ]
    },
    {
      "metadata": {
        "trusted": true,
        "id": "t6QD-_qtixn6"
      },
      "cell_type": "code",
      "source": [
        "tempo, _ = librosa.beat.beat_track(y, sr = sr)\n",
        "tempo"
      ],
      "execution_count": null,
      "outputs": []
    },
    {
      "metadata": {
        "id": "i4cjOKJcixn6"
      },
      "cell_type": "markdown",
      "source": [
        "### Spectral Centroid\n",
        "\n",
        "* indicates where the ”centre of mass” for a sound is located and is calculated as the weighted mean of the frequencies present in the sound."
      ]
    },
    {
      "metadata": {
        "trusted": true,
        "id": "peGBzeADixn6"
      },
      "cell_type": "code",
      "source": [
        "# Calculate the Spectral Centroids\n",
        "spectral_centroids = librosa.feature.spectral_centroid(audio_file, sr=sr)[0]\n",
        "\n",
        "# Shape is a vector\n",
        "print('Centroids:', spectral_centroids, '\\n')\n",
        "print('Shape of Spectral Centroids:', spectral_centroids.shape, '\\n')\n",
        "\n",
        "# Computing the time variable for visualization\n",
        "frames = range(len(spectral_centroids))\n",
        "\n",
        "# Converts frame counts to time (seconds)\n",
        "t = librosa.frames_to_time(frames)\n",
        "\n",
        "print('frames:', frames, '\\n')\n",
        "print('t:', t)\n",
        "\n",
        "# Function that normalizes the Sound Data\n",
        "def normalize(x, axis=0):\n",
        "    return sklearn.preprocessing.minmax_scale(x, axis=axis)"
      ],
      "execution_count": null,
      "outputs": []
    },
    {
      "metadata": {
        "trusted": true,
        "id": "yR53MtQtixn7"
      },
      "cell_type": "code",
      "source": [
        "#Plotting the Spectral Centroid along the waveform\n",
        "plt.figure(figsize = (16, 6))\n",
        "librosa.display.waveplot(audio_file, sr=sr, alpha=0.4, color = '#A300F9');\n",
        "plt.plot(t, normalize(spectral_centroids), color='#FFB100');"
      ],
      "execution_count": null,
      "outputs": []
    },
    {
      "metadata": {
        "id": "l83vFTeQixn7"
      },
      "cell_type": "markdown",
      "source": [
        "### Spectral Rolloff\n",
        "* is a measure of the shape of the signal. It represents the frequency below which a specified percentage of the total spectral energy, e.g. 85%, lies"
      ]
    },
    {
      "metadata": {
        "trusted": true,
        "id": "iwj7n4-Jixn7"
      },
      "cell_type": "code",
      "source": [
        "# Spectral RollOff Vector\n",
        "spectral_rolloff = librosa.feature.spectral_rolloff(audio_file, sr=sr)[0]\n",
        "\n",
        "# The plot\n",
        "plt.figure(figsize = (16, 6))\n",
        "librosa.display.waveplot(audio_file, sr=sr, alpha=0.4, color = '#A300F9');\n",
        "plt.plot(t, normalize(spectral_rolloff), color='#FFB100');"
      ],
      "execution_count": null,
      "outputs": []
    },
    {
      "metadata": {
        "id": "fAo-6lI6ixn8"
      },
      "cell_type": "markdown",
      "source": [
        "### Mel-Frequency Cepstral Coefficients:\n",
        "\n",
        "* The Mel frequency cepstral coefficients (MFCCs) of a signal are a small set of features (usually about 10–20) which concisely describe the overall shape of a spectral envelope. It models the characteristics of the human voice."
      ]
    },
    {
      "metadata": {
        "trusted": true,
        "id": "SrE8Y31Lixn8"
      },
      "cell_type": "code",
      "source": [
        "mfccs = librosa.feature.mfcc(audio_file, sr=sr)\n",
        "print('mfccs shape:', mfccs.shape)\n",
        "\n",
        "#Displaying  the MFCCs:\n",
        "plt.figure(figsize = (16, 6))\n",
        "librosa.display.specshow(mfccs, sr=sr, x_axis='time', cmap = 'cool');"
      ],
      "execution_count": null,
      "outputs": []
    },
    {
      "metadata": {
        "id": "Ahe0xTDdixn8"
      },
      "cell_type": "markdown",
      "source": [
        "Data needs to be scaled:"
      ]
    },
    {
      "metadata": {
        "trusted": true,
        "id": "iyQmQKrSixn9"
      },
      "cell_type": "code",
      "source": [
        "# Perform Feature Scaling\n",
        "mfccs = sklearn.preprocessing.scale(mfccs, axis=1)\n",
        "print('Mean:', mfccs.mean(), '\\n')\n",
        "print('Var:', mfccs.var())\n",
        "\n",
        "plt.figure(figsize = (16, 6))\n",
        "librosa.display.specshow(mfccs, sr=sr, x_axis='time', cmap = 'cool');"
      ],
      "execution_count": null,
      "outputs": []
    },
    {
      "metadata": {
        "id": "TkWkKhksixn9"
      },
      "cell_type": "markdown",
      "source": [
        "### Chroma Frequencies\n",
        "\n",
        "* Chroma features are an interesting and powerful representation for music audio in which the entire spectrum is projected onto 12 bins representing the 12 distinct semitones (or chroma) of the musical octave."
      ]
    },
    {
      "metadata": {
        "trusted": true,
        "id": "xY84sIDhixn-"
      },
      "cell_type": "code",
      "source": [
        "# Increase or decrease hop_length to change how granular you want your data to be\n",
        "hop_length = 5000\n",
        "\n",
        "# Chromogram\n",
        "chromagram = librosa.feature.chroma_stft(audio_file, sr=sr, hop_length=hop_length)\n",
        "print('Chromogram shape:', chromagram.shape)\n",
        "\n",
        "plt.figure(figsize=(16, 6))\n",
        "librosa.display.specshow(chromagram, x_axis='time', y_axis='chroma', hop_length=hop_length, cmap='coolwarm');"
      ],
      "execution_count": null,
      "outputs": []
    },
    {
      "metadata": {
        "id": "MuaFA3xcixn-"
      },
      "cell_type": "markdown",
      "source": [
        "## EDA\n",
        "\n",
        "EDA is going to be performed on the `features_30_sec.csv`. This file contains the mean and variance for each audio file fo the features analysed above.\n",
        "\n",
        "So, the table has a final of 1000 rows (10 genrex x 100 audio files) and 60 features (dimensionalities)."
      ]
    },
    {
      "metadata": {
        "trusted": true,
        "id": "sN0rbGiEixn-"
      },
      "cell_type": "code",
      "source": [
        "data = pd.read_csv(f'{general_path}/features_30_sec.csv')\n",
        "data.head()"
      ],
      "execution_count": null,
      "outputs": []
    },
    {
      "metadata": {
        "id": "SebKN2MAixn_"
      },
      "cell_type": "markdown",
      "source": [
        "### Correlation Heatmap for feature means"
      ]
    },
    {
      "metadata": {
        "trusted": true,
        "id": "LL-MqmyRixn_"
      },
      "cell_type": "code",
      "source": [
        "# Computing the Correlation Matrix\n",
        "spike_cols = [col for col in data.columns if 'mean' in col]\n",
        "corr = data[spike_cols].corr()\n",
        "\n",
        "# Generate a mask for the upper triangle\n",
        "mask = np.triu(np.ones_like(corr, dtype=np.bool))\n",
        "\n",
        "# Set up the matplotlib figure\n",
        "f, ax = plt.subplots(figsize=(16, 11));\n",
        "\n",
        "# Generate a custom diverging colormap\n",
        "cmap = sns.diverging_palette(0, 25, as_cmap=True, s = 90, l = 45, n = 5)\n",
        "\n",
        "# Draw the heatmap with the mask and correct aspect ratio\n",
        "sns.heatmap(corr, mask=mask, cmap=cmap, vmax=.3, center=0,\n",
        "            square=True, linewidths=.5, cbar_kws={\"shrink\": .5})\n",
        "\n",
        "plt.title('Correlation Heatmap (for the MEAN variables)', fontsize = 25)\n",
        "plt.xticks(fontsize = 10)\n",
        "plt.yticks(fontsize = 10);\n",
        "plt.savefig(\"Corr Heatmap.jpg\")"
      ],
      "execution_count": null,
      "outputs": []
    },
    {
      "metadata": {
        "id": "CHVRiaeYixn_"
      },
      "cell_type": "markdown",
      "source": [
        "### Box Plot for Genres Distributions"
      ]
    },
    {
      "metadata": {
        "trusted": true,
        "id": "IkJMnlyUixoF"
      },
      "cell_type": "code",
      "source": [
        "x = data[[\"label\", \"tempo\"]]\n",
        "\n",
        "f, ax = plt.subplots(figsize=(16, 9));\n",
        "sns.boxplot(x = \"label\", y = \"tempo\", data = x, palette = 'husl');\n",
        "\n",
        "plt.title('BPM Boxplot for Genres', fontsize = 25)\n",
        "plt.xticks(fontsize = 14)\n",
        "plt.yticks(fontsize = 10);\n",
        "plt.xlabel(\"Genre\", fontsize = 15)\n",
        "plt.ylabel(\"BPM\", fontsize = 15)\n",
        "plt.savefig(\"BPM Boxplot.jpg\")"
      ],
      "execution_count": null,
      "outputs": []
    },
    {
      "metadata": {
        "id": "wQdgPnbFixoG"
      },
      "cell_type": "markdown",
      "source": [
        "### Principal Component Analysis - to visualize possible groups of genres\n",
        "\n",
        "1. Normalization\n",
        "2. PCA\n",
        "3. The Scatter Plot"
      ]
    },
    {
      "metadata": {
        "trusted": true,
        "id": "_HtWSRU-ixoG"
      },
      "cell_type": "code",
      "source": [
        "from sklearn import preprocessing\n",
        "\n",
        "data = data.iloc[0:, 1:]\n",
        "y = data['label']\n",
        "X = data.loc[:, data.columns != 'label']\n",
        "\n",
        "#### NORMALIZE X ####\n",
        "cols = X.columns\n",
        "min_max_scaler = preprocessing.MinMaxScaler()\n",
        "np_scaled = min_max_scaler.fit_transform(X)\n",
        "X = pd.DataFrame(np_scaled, columns = cols)\n",
        "\n",
        "\n",
        "#### PCA 2 COMPONENTS ####\n",
        "from sklearn.decomposition import PCA\n",
        "\n",
        "pca = PCA(n_components=2)\n",
        "principalComponents = pca.fit_transform(X)\n",
        "principalDf = pd.DataFrame(data = principalComponents, columns = ['principal component 1', 'principal component 2'])\n",
        "\n",
        "# concatenate with target label\n",
        "finalDf = pd.concat([principalDf, y], axis = 1)\n",
        "\n",
        "pca.explained_variance_ratio_\n",
        "\n",
        "# 44.93 variance explained"
      ],
      "execution_count": null,
      "outputs": []
    },
    {
      "metadata": {
        "trusted": true,
        "id": "F4pnum3pixoG"
      },
      "cell_type": "code",
      "source": [
        "plt.figure(figsize = (16, 9))\n",
        "sns.scatterplot(x = \"principal component 1\", y = \"principal component 2\", data = finalDf, hue = \"label\", alpha = 0.7,\n",
        "               s = 100);\n",
        "\n",
        "plt.title('PCA on Genres', fontsize = 25)\n",
        "plt.xticks(fontsize = 14)\n",
        "plt.yticks(fontsize = 10);\n",
        "plt.xlabel(\"Principal Component 1\", fontsize = 15)\n",
        "plt.ylabel(\"Principal Component 2\", fontsize = 15)\n",
        "plt.savefig(\"PCA Scattert.jpg\")"
      ],
      "execution_count": null,
      "outputs": []
    },
    {
      "metadata": {
        "id": "ov1mhk9xixoH"
      },
      "cell_type": "markdown",
      "source": [
        "# Machine Learning Classification\n",
        "\n",
        "Using the `features_3_sec.csv` file, we can try to build a classifier that accurately predicts for any new audio file input it's genre.\n",
        "\n",
        "### Libraries"
      ]
    },
    {
      "metadata": {
        "trusted": true,
        "id": "-DZt3E7cixoH"
      },
      "cell_type": "code",
      "source": [
        "from sklearn.naive_bayes import GaussianNB\n",
        "from sklearn.linear_model import SGDClassifier, LogisticRegression\n",
        "from sklearn.neighbors import KNeighborsClassifier\n",
        "from sklearn.tree import DecisionTreeClassifier\n",
        "from sklearn.ensemble import RandomForestClassifier\n",
        "from sklearn.svm import SVC\n",
        "from sklearn.neural_network import MLPClassifier\n",
        "from xgboost import XGBClassifier, XGBRFClassifier\n",
        "from xgboost import plot_tree, plot_importance\n",
        "\n",
        "from sklearn.metrics import confusion_matrix, accuracy_score, roc_auc_score, roc_curve\n",
        "from sklearn import preprocessing\n",
        "from sklearn.model_selection import train_test_split\n",
        "from sklearn.feature_selection import RFE"
      ],
      "execution_count": null,
      "outputs": []
    },
    {
      "metadata": {
        "id": "GHVPQMNbixoH"
      },
      "cell_type": "markdown",
      "source": [
        "### Reading in the Data\n",
        "\n",
        "Now let's try to predict the Genre of the audio using Machine Learning techniques."
      ]
    },
    {
      "metadata": {
        "trusted": true,
        "id": "LZnt-gVaixoH"
      },
      "cell_type": "code",
      "source": [
        "data = pd.read_csv(f'{general_path}/features_3_sec.csv')\n",
        "data = data.iloc[0:, 1:]\n",
        "data.head()"
      ],
      "execution_count": null,
      "outputs": []
    },
    {
      "metadata": {
        "id": "6O-LT9leixoI"
      },
      "cell_type": "markdown",
      "source": [
        "### Features and Target variable\n",
        "\n",
        "* creates the target and feature variables\n",
        "* normalizes the data"
      ]
    },
    {
      "metadata": {
        "trusted": true,
        "id": "V45FY4JIixoI"
      },
      "cell_type": "code",
      "source": [
        "y = data['label'] # genre variable.\n",
        "X = data.loc[:, data.columns != 'label'] #select all columns but not the labels\n",
        "\n",
        "#### NORMALIZE X ####\n",
        "\n",
        "# Normalize so everything is on the same scale.\n",
        "\n",
        "cols = X.columns\n",
        "min_max_scaler = preprocessing.MinMaxScaler()\n",
        "np_scaled = min_max_scaler.fit_transform(X)\n",
        "\n",
        "# new data frame with the new scaled data.\n",
        "X = pd.DataFrame(np_scaled, columns = cols)"
      ],
      "execution_count": null,
      "outputs": []
    },
    {
      "metadata": {
        "id": "CurzNAAxixoJ"
      },
      "cell_type": "markdown",
      "source": [
        "### Splitting the data into training and testing\n",
        "\n",
        "* 70% - 30% split"
      ]
    },
    {
      "metadata": {
        "trusted": true,
        "id": "5ShTBoGJixoJ"
      },
      "cell_type": "code",
      "source": [
        "X_train, X_test, y_train, y_test = train_test_split(X, y, test_size=0.3, random_state=42)"
      ],
      "execution_count": null,
      "outputs": []
    },
    {
      "metadata": {
        "id": "x-kjkr_0ixoK"
      },
      "cell_type": "markdown",
      "source": [
        "### Creating a Predefined function to assess the accuracy of a model\n",
        "\n",
        "* input is the model\n",
        "* fits the model on the training dataset\n",
        "* predicts on the testing features\n",
        "* compares the predictions with the actuals"
      ]
    },
    {
      "metadata": {
        "trusted": true,
        "id": "FPs7Wh20ixoK"
      },
      "cell_type": "code",
      "source": [
        "def model_assess(model, title = \"Default\"):\n",
        "    model.fit(X_train, y_train)\n",
        "    preds = model.predict(X_test)\n",
        "    #print(confusion_matrix(y_test, preds))\n",
        "    print('Accuracy', title, ':', round(accuracy_score(y_test, preds), 5), '\\n')"
      ],
      "execution_count": null,
      "outputs": []
    },
    {
      "metadata": {
        "id": "nhaV3QR3ixoL"
      },
      "cell_type": "markdown",
      "source": [
        "### Trying 10 different models to assess their performance\n",
        "\n",
        "We tried 10 classification models, the best performing model was XGBooster."
      ]
    },
    {
      "metadata": {
        "trusted": true,
        "id": "Ksj-LGiGixoL"
      },
      "cell_type": "code",
      "source": [
        "# Naive Bayes\n",
        "nb = GaussianNB()\n",
        "model_assess(nb, \"Naive Bayes\")\n",
        "\n",
        "# Stochastic Gradient Descent\n",
        "sgd = SGDClassifier(max_iter=5000, random_state=0)\n",
        "model_assess(sgd, \"Stochastic Gradient Descent\")\n",
        "\n",
        "# KNN\n",
        "knn = KNeighborsClassifier(n_neighbors=19)\n",
        "model_assess(knn, \"KNN\")\n",
        "\n",
        "# Decission trees\n",
        "tree = DecisionTreeClassifier()\n",
        "model_assess(tree, \"Decission trees\")\n",
        "\n",
        "# Random Forest\n",
        "rforest = RandomForestClassifier(n_estimators=1000, max_depth=10, random_state=0)\n",
        "model_assess(rforest, \"Random Forest\")\n",
        "\n",
        "# Support Vector Machine\n",
        "svm = SVC(decision_function_shape=\"ovo\")\n",
        "model_assess(svm, \"Support Vector Machine\")\n",
        "\n",
        "# Logistic Regression\n",
        "lg = LogisticRegression(random_state=0, solver='lbfgs', multi_class='multinomial')\n",
        "model_assess(lg, \"Logistic Regression\")\n",
        "\n",
        "# Neural Nets\n",
        "nn = MLPClassifier(solver='lbfgs', alpha=1e-5, hidden_layer_sizes=(5000, 10), random_state=1)\n",
        "model_assess(nn, \"Neural Nets\")\n",
        "\n",
        "# Cross Gradient Booster\n",
        "xgb = XGBClassifier(n_estimators=1000, learning_rate=0.05)\n",
        "model_assess(xgb, \"Cross Gradient Booster\")\n",
        "\n",
        "# Cross Gradient Booster (Random Forest)\n",
        "xgbrf = XGBRFClassifier(objective= 'multi:softmax')\n",
        "model_assess(xgbrf, \"Cross Gradient Booster (Random Forest)\")"
      ],
      "execution_count": null,
      "outputs": []
    },
    {
      "metadata": {
        "id": "4PrgpewHixoM"
      },
      "cell_type": "markdown",
      "source": [
        "### XGBoost is the winner - 90% accuracy\n",
        "\n",
        "* create the final model\n",
        "* compute confusion matrix\n",
        "* Compute Feature Importance"
      ]
    },
    {
      "metadata": {
        "trusted": true,
        "id": "J8EYNIcxixoM"
      },
      "cell_type": "code",
      "source": [
        "# Final model\n",
        "xgb = XGBClassifier(n_estimators=1000, learning_rate=0.05)\n",
        "xgb.fit(X_train, y_train)\n",
        "\n",
        "\n",
        "preds = xgb.predict(X_test)\n",
        "\n",
        "print('Accuracy', ':', round(accuracy_score(y_test, preds), 5), '\\n')\n",
        "\n",
        "# Confusion Matrix\n",
        "confusion_matr = confusion_matrix(y_test, preds) #normalize = 'true'\n",
        "plt.figure(figsize = (16, 9))\n",
        "sns.heatmap(confusion_matr, cmap=\"Blues\", annot=True,\n",
        "            xticklabels = [\"blues\", \"classical\", \"country\", \"disco\", \"hiphop\", \"jazz\", \"metal\", \"pop\", \"reggae\", \"rock\"],\n",
        "           yticklabels=[\"blues\", \"classical\", \"country\", \"disco\", \"hiphop\", \"jazz\", \"metal\", \"pop\", \"reggae\", \"rock\"]);\n",
        "plt.savefig(\"conf matrix\")"
      ],
      "execution_count": null,
      "outputs": []
    },
    {
      "metadata": {
        "id": "aY3V-tH8ixoM"
      },
      "cell_type": "markdown",
      "source": [
        "### Feature Importance"
      ]
    },
    {
      "metadata": {
        "trusted": true,
        "id": "wupPeSlQixoN"
      },
      "cell_type": "code",
      "source": [
        "import eli5\n",
        "from eli5.sklearn import PermutationImportance\n",
        "\n",
        "perm = PermutationImportance(estimator=xgb, random_state=1)\n",
        "perm.fit(X_test, y_test)\n",
        "\n",
        "eli5.show_weights(estimator=perm, feature_names = X_test.columns.tolist())"
      ],
      "execution_count": null,
      "outputs": []
    },
    {
      "metadata": {
        "id": "IF4SYybzixoN"
      },
      "cell_type": "markdown",
      "source": [
        "# Recommender Systems\n",
        "\n",
        "\"Recomender\" Systems enable us for any given vector to find the best similarity, ranked in descending order, from the bast match to the least best match.\n",
        "\n",
        "For Audio files, this will be done through `cosine_similarity` library."
      ]
    },
    {
      "metadata": {
        "trusted": true,
        "id": "C9VQmRi6ixoN"
      },
      "cell_type": "code",
      "source": [
        "# Libraries\n",
        "import IPython.display as ipd\n",
        "from sklearn.metrics.pairwise import cosine_similarity\n",
        "from sklearn import preprocessing\n",
        "\n",
        "# Read data\n",
        "data = pd.read_csv(f'{general_path}/features_30_sec.csv', index_col='filename')\n",
        "\n",
        "# Extract labels\n",
        "labels = data[['label']]\n",
        "\n",
        "# Drop labels from original dataframe\n",
        "data = data.drop(columns=['length','label'])\n",
        "data.head()\n",
        "\n",
        "# Scale the data\n",
        "data_scaled=preprocessing.scale(data)\n",
        "print('Scaled data type:', type(data_scaled))"
      ],
      "execution_count": null,
      "outputs": []
    },
    {
      "metadata": {
        "id": "-uO9w_YCixoO"
      },
      "cell_type": "markdown",
      "source": [
        "### Cosine similarity\n",
        "\n",
        "Calculates the *pairwise cosine similarity* for each combination of songs in the data. This results in a 1000 x 1000 matrix (with redundancy in the information as item A similarity to item B == item B similarity to item A)."
      ]
    },
    {
      "metadata": {
        "trusted": true,
        "id": "-3XRDJXwixoO"
      },
      "cell_type": "code",
      "source": [
        "# Cosine similarity\n",
        "similarity = cosine_similarity(data_scaled)\n",
        "print(\"Similarity shape:\", similarity.shape)\n",
        "\n",
        "# Convert into a dataframe and then set the row index and column names as labels\n",
        "sim_df_labels = pd.DataFrame(similarity)\n",
        "sim_df_names = sim_df_labels.set_index(labels.index)\n",
        "sim_df_names.columns = labels.index\n",
        "\n",
        "sim_df_names.head()"
      ],
      "execution_count": null,
      "outputs": []
    },
    {
      "metadata": {
        "id": "G5lYc_P2ixoO"
      },
      "cell_type": "markdown",
      "source": [
        "### Song similarity scoring\n",
        "\n",
        "`find_similar_songs()` - is a predefined function that takes the name of the song and returns top 5 best matches for that song."
      ]
    },
    {
      "metadata": {
        "trusted": true,
        "id": "S7DX-GQDixoP"
      },
      "cell_type": "code",
      "source": [
        "def find_similar_songs(name):\n",
        "    # Find songs most similar to another song\n",
        "    series = sim_df_names[name].sort_values(ascending = False)\n",
        "\n",
        "    # Remove cosine similarity == 1 (songs will always have the best match with themselves)\n",
        "    series = series.drop(name)\n",
        "\n",
        "    # Display the 5 top matches\n",
        "    print(\"\\n*******\\nSimilar songs to \", name)\n",
        "    print(series.head(5))"
      ],
      "execution_count": null,
      "outputs": []
    },
    {
      "metadata": {
        "id": "Hq6__tucixoP"
      },
      "cell_type": "markdown",
      "source": [
        "### Putting the Similarity Function into Action:\n",
        "\n",
        "### POP Example"
      ]
    },
    {
      "metadata": {
        "trusted": true,
        "id": "nwvX1DMAixoP"
      },
      "cell_type": "code",
      "source": [
        "# pop.00019 - Britney Spears \"Hit me baby one more time\"\n",
        "find_similar_songs('pop.00019.wav')\n",
        "\n",
        "ipd.Audio(f'{general_path}/genres_original/pop/pop.00019.wav')"
      ],
      "execution_count": null,
      "outputs": []
    },
    {
      "metadata": {
        "id": "aFFQqYMUixoQ"
      },
      "cell_type": "markdown",
      "source": [
        "### Similar song match no.1\n",
        "*Britney Spears* - **I'm so curious (2009 remaster)**"
      ]
    },
    {
      "metadata": {
        "trusted": true,
        "id": "47gLqYTOixoQ"
      },
      "cell_type": "code",
      "source": [
        "ipd.Audio(f'{general_path}/genres_original/pop/pop.00023.wav')"
      ],
      "execution_count": null,
      "outputs": []
    },
    {
      "metadata": {
        "id": "L4L2PlcOixoQ"
      },
      "cell_type": "markdown",
      "source": [
        "### Similar song match no.2\n",
        "*Britney Spears* - **Sometimes**"
      ]
    },
    {
      "metadata": {
        "trusted": true,
        "id": "EepOS1s6ixoQ"
      },
      "cell_type": "code",
      "source": [
        "ipd.Audio(f'{general_path}/genres_original/pop/pop.00034.wav')"
      ],
      "execution_count": null,
      "outputs": []
    },
    {
      "metadata": {
        "id": "9dQADclqixoR"
      },
      "cell_type": "markdown",
      "source": [
        "### Similar song match no.3\n",
        "*Jennifer Lopez* - **Play**"
      ]
    },
    {
      "metadata": {
        "trusted": true,
        "id": "yhPnvWLnixoR"
      },
      "cell_type": "code",
      "source": [
        "ipd.Audio(f'{general_path}/genres_original/pop/pop.00078.wav')"
      ],
      "execution_count": null,
      "outputs": []
    },
    {
      "metadata": {
        "id": "3TZxG2QIixoR"
      },
      "cell_type": "markdown",
      "source": [
        "### Similar song match no.4\n",
        "*Mandy Moore* - **Candy**"
      ]
    },
    {
      "metadata": {
        "trusted": true,
        "id": "IaZ_HBR_ixoS"
      },
      "cell_type": "code",
      "source": [
        "ipd.Audio(f'{general_path}/genres_original/pop/pop.00088.wav')"
      ],
      "execution_count": null,
      "outputs": []
    },
    {
      "metadata": {
        "id": "FZGfWssaixoS"
      },
      "cell_type": "markdown",
      "source": [
        "### Similar song match no.5\n",
        "*Mandy Moore* - **Everything my heart desires**"
      ]
    },
    {
      "metadata": {
        "trusted": true,
        "id": "xwPjDfAXixoS"
      },
      "cell_type": "code",
      "source": [
        "ipd.Audio(f'{general_path}/genres_original/pop/pop.00091.wav')"
      ],
      "execution_count": null,
      "outputs": []
    },
    {
      "metadata": {
        "id": "hS6LYl1jixoS"
      },
      "cell_type": "markdown",
      "source": [
        "### METAL Example"
      ]
    },
    {
      "metadata": {
        "trusted": true,
        "id": "BAciJZl4ixoT"
      },
      "cell_type": "code",
      "source": [
        "# metal.00002 - Iron Maiden \"Flight of Icarus\"\n",
        "find_similar_songs('metal.00002.wav')\n",
        "\n",
        "ipd.Audio(f'{general_path}/genres_original/metal/metal.00002.wav')"
      ],
      "execution_count": null,
      "outputs": []
    },
    {
      "metadata": {
        "id": "27rpPxuLixoT"
      },
      "cell_type": "markdown",
      "source": [
        "### Similar song match no.1\n",
        "*Motorhead* - **Ace of Spades**"
      ]
    },
    {
      "metadata": {
        "trusted": true,
        "id": "QSCs2YLeixoT"
      },
      "cell_type": "code",
      "source": [
        "ipd.Audio(f'{general_path}/genres_original/metal/metal.00028.wav')"
      ],
      "execution_count": null,
      "outputs": []
    },
    {
      "metadata": {
        "id": "eJedXZuuixoT"
      },
      "cell_type": "markdown",
      "source": [
        "### Similar song match no.2\n",
        "*Queen* - **Tear it Up**"
      ]
    },
    {
      "metadata": {
        "trusted": true,
        "id": "aiYIPEMqixoU"
      },
      "cell_type": "code",
      "source": [
        "ipd.Audio(f'{general_path}/genres_original/metal/metal.00059.wav')"
      ],
      "execution_count": null,
      "outputs": []
    },
    {
      "metadata": {
        "id": "S0jRReQlixoU"
      },
      "cell_type": "markdown",
      "source": [
        "### Similar song match no.3\n",
        "*Queen* - **Another One Bites The Dust**"
      ]
    },
    {
      "metadata": {
        "trusted": true,
        "id": "4r8ThybpixoU"
      },
      "cell_type": "code",
      "source": [
        "ipd.Audio(f'{general_path}/genres_original/rock/rock.00018.wav')"
      ],
      "execution_count": null,
      "outputs": []
    },
    {
      "metadata": {
        "id": "irF1K7mMixoV"
      },
      "cell_type": "markdown",
      "source": [
        "### Similar song match no.4\n",
        "*Queen* - **Under Pressure**"
      ]
    },
    {
      "metadata": {
        "trusted": true,
        "id": "HYr6qvxHixoV"
      },
      "cell_type": "code",
      "source": [
        "ipd.Audio(f'{general_path}/genres_original/rock/rock.00017.wav')"
      ],
      "execution_count": null,
      "outputs": []
    },
    {
      "metadata": {
        "id": "qoRWveskixoV"
      },
      "cell_type": "markdown",
      "source": [
        "### Similar song match no.5\n",
        "*Queen* - **Tie Your Mother Down**"
      ]
    },
    {
      "metadata": {
        "trusted": true,
        "id": "1quGLMgRixoV"
      },
      "cell_type": "code",
      "source": [
        "ipd.Audio(f'{general_path}/genres_original/rock/rock.00016.wav')"
      ],
      "execution_count": null,
      "outputs": []
    },
    {
      "metadata": {
        "id": "GFw5vPfkixoW"
      },
      "cell_type": "markdown",
      "source": [
        "<div class=\"alert alert-block alert-info\">\n",
        "<p>If you liked this, don't be shy, upvote! 😁<p>\n",
        "\n",
        "<b>Toodles!<b>\n",
        "</div>"
      ]
    }
  ],
  "metadata": {
    "kernelspec": {
      "language": "python",
      "display_name": "Python 3",
      "name": "python3"
    },
    "language_info": {
      "pygments_lexer": "ipython3",
      "nbconvert_exporter": "python",
      "version": "3.6.4",
      "file_extension": ".py",
      "codemirror_mode": {
        "name": "ipython",
        "version": 3
      },
      "name": "python",
      "mimetype": "text/x-python"
    },
    "colab": {
      "name": "Work w/ Audio Data: Visualise, Classify, Recommend",
      "provenance": [],
      "include_colab_link": true
    }
  },
  "nbformat": 4,
  "nbformat_minor": 0
}