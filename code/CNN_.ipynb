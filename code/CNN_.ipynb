{
  "cells": [
    {
      "cell_type": "code",
      "source": [
        "!pip install git+https://github.com/paulgavrikov/visualkeras"
      ],
      "metadata": {
        "id": "KfD2ZRP5tv06",
        "outputId": "c7aa8506-32e1-49e3-8377-f43b9bf7b101",
        "colab": {
          "base_uri": "https://localhost:8080/"
        }
      },
      "id": "KfD2ZRP5tv06",
      "execution_count": 4,
      "outputs": [
        {
          "output_type": "stream",
          "name": "stdout",
          "text": [
            "Collecting git+https://github.com/paulgavrikov/visualkeras\n",
            "  Cloning https://github.com/paulgavrikov/visualkeras to /tmp/pip-req-build-_jen7c41\n",
            "  Running command git clone --filter=blob:none --quiet https://github.com/paulgavrikov/visualkeras /tmp/pip-req-build-_jen7c41\n",
            "  Resolved https://github.com/paulgavrikov/visualkeras to commit 8d42f3a9128373eac7b4d38c23a17edc9357e3c9\n",
            "  Preparing metadata (setup.py) ... \u001b[?25l\u001b[?25hdone\n",
            "Requirement already satisfied: pillow>=6.2.0 in /usr/local/lib/python3.11/dist-packages (from visualkeras==0.1.4) (11.1.0)\n",
            "Requirement already satisfied: numpy>=1.18.1 in /usr/local/lib/python3.11/dist-packages (from visualkeras==0.1.4) (1.26.4)\n",
            "Collecting aggdraw>=1.3.11 (from visualkeras==0.1.4)\n",
            "  Downloading aggdraw-1.3.19-cp311-cp311-manylinux_2_17_x86_64.manylinux2014_x86_64.whl.metadata (655 bytes)\n",
            "Downloading aggdraw-1.3.19-cp311-cp311-manylinux_2_17_x86_64.manylinux2014_x86_64.whl (997 kB)\n",
            "\u001b[2K   \u001b[90m━━━━━━━━━━━━━━━━━━━━━━━━━━━━━━━━━━━━━━━━\u001b[0m \u001b[32m997.4/997.4 kB\u001b[0m \u001b[31m27.2 MB/s\u001b[0m eta \u001b[36m0:00:00\u001b[0m\n",
            "\u001b[?25hBuilding wheels for collected packages: visualkeras\n",
            "  Building wheel for visualkeras (setup.py) ... \u001b[?25l\u001b[?25hdone\n",
            "  Created wheel for visualkeras: filename=visualkeras-0.1.4-py3-none-any.whl size=17145 sha256=5224ca38df09845839d11fc917af95b64fe0066d8085ce0f1454726dca745eb2\n",
            "  Stored in directory: /tmp/pip-ephem-wheel-cache-bbud5ymf/wheels/be/f7/2b/90cdf278d2022271c504be10866520c5d94d4a82c919b77302\n",
            "Successfully built visualkeras\n",
            "Installing collected packages: aggdraw, visualkeras\n",
            "Successfully installed aggdraw-1.3.19 visualkeras-0.1.4\n"
          ]
        }
      ]
    },
    {
      "cell_type": "code",
      "execution_count": 5,
      "id": "120ec141",
      "metadata": {
        "id": "120ec141"
      },
      "outputs": [],
      "source": [
        "import numpy as np\n",
        "import matplotlib.pyplot as plt\n",
        "import seaborn as sns\n",
        "\n",
        "import librosa as lb\n",
        "import librosa.display\n",
        "import os\n",
        "\n",
        "import IPython\n",
        "import IPython.display as ipd\n",
        "\n",
        "import tensorflow as tf\n",
        "from tensorflow import keras\n",
        "from tensorflow.keras import layers, models, optimizers, losses, regularizers\n",
        "from tensorflow.keras import preprocessing\n",
        "from sklearn.model_selection import train_test_split\n",
        "from sklearn.preprocessing import normalize\n",
        "import visualkeras"
      ]
    },
    {
      "cell_type": "code",
      "execution_count": 6,
      "id": "29bbff20",
      "metadata": {
        "id": "29bbff20"
      },
      "outputs": [],
      "source": [
        "os.environ['TF_CPP_MIN_LOG_LEVEL'] = '2'"
      ]
    },
    {
      "cell_type": "markdown",
      "id": "b6fe18c6",
      "metadata": {
        "id": "b6fe18c6"
      },
      "source": [
        "## The Dataset - GTZAN\n",
        "\n",
        "- Instances (m): 1,000\n",
        "- Squence length (per instance): 30 sec\n",
        "- Labels: 10 (Blues, Classical, Country, Disco, Hip hop, Jazz, Metal, Pop, Reggae, Rock)\n",
        "\n",
        "Preparing the dataset.\n"
      ]
    },
    {
      "cell_type": "markdown",
      "id": "c6565ec0",
      "metadata": {
        "id": "c6565ec0"
      },
      "source": [
        "### Steps\n",
        "1. Create the dataset. Feature Engineering\n",
        "2. Fit the CNN to the dataset\n",
        "3. Evaluate the performance\n",
        "\n",
        "### Creating the dataset\n",
        "Based on the different resources I am finding online (Kaggle and some blog posts), it seems like the way to go is to extract meaningful features from the data, shape them so that they share dimensions and build a tensor out of them.\n",
        "The most interesting feature was the Mel-Spectogram"
      ]
    },
    {
      "cell_type": "markdown",
      "id": "743b74d4",
      "metadata": {
        "id": "743b74d4"
      },
      "source": [
        "## 1. Setup, Data, Feature Engineering"
      ]
    },
    {
      "cell_type": "code",
      "source": [
        "import kagglehub\n",
        "import shutil\n",
        "import os\n",
        "\n",
        "\n",
        "# Download latest version\n",
        "path = kagglehub.dataset_download(\"andradaolteanu/gtzan-dataset-music-genre-classification\")\n",
        "\n",
        "print(\"Path to dataset files:\", path)\n",
        "\n",
        "\n",
        "# Define the target path\n",
        "target_path = '/kaggle/working/gtzan-dataset-music-genre-classification'\n",
        "os.makedirs(target_path, exist_ok=True)\n",
        "\n",
        "# Move files from the download location to the target path\n",
        "shutil.move(path, target_path)\n",
        "\n",
        "print(\"Dataset successfully moved to:\", target_path)\n",
        "\n",
        "# print(\"Path to dataset files:\", download_path)\n"
      ],
      "metadata": {
        "id": "7FOBga5_t6_6",
        "outputId": "655e6174-c812-4c32-9b09-2239d7fe0373",
        "colab": {
          "base_uri": "https://localhost:8080/"
        }
      },
      "id": "7FOBga5_t6_6",
      "execution_count": 8,
      "outputs": [
        {
          "output_type": "stream",
          "name": "stdout",
          "text": [
            "Downloading from https://www.kaggle.com/api/v1/datasets/download/andradaolteanu/gtzan-dataset-music-genre-classification?dataset_version_number=1...\n"
          ]
        },
        {
          "output_type": "stream",
          "name": "stderr",
          "text": [
            "100%|██████████| 1.21G/1.21G [00:31<00:00, 40.8MB/s]"
          ]
        },
        {
          "output_type": "stream",
          "name": "stdout",
          "text": [
            "Extracting files...\n"
          ]
        },
        {
          "output_type": "stream",
          "name": "stderr",
          "text": [
            "\n"
          ]
        },
        {
          "output_type": "stream",
          "name": "stdout",
          "text": [
            "Path to dataset files: /root/.cache/kagglehub/datasets/andradaolteanu/gtzan-dataset-music-genre-classification/versions/1\n",
            "Dataset successfully moved to: /kaggle/working/gtzan-dataset-music-genre-classification\n"
          ]
        }
      ]
    },
    {
      "cell_type": "code",
      "execution_count": 12,
      "id": "bc05d660",
      "metadata": {
        "id": "bc05d660",
        "outputId": "08bf945a-14f5-41f5-8133-02d60783f536",
        "colab": {
          "base_uri": "https://localhost:8080/"
        }
      },
      "outputs": [
        {
          "output_type": "stream",
          "name": "stdout",
          "text": [
            "['country', 'classical', 'reggae', 'rock', 'metal', 'hiphop', 'pop', 'jazz', 'blues', 'disco']\n",
            "country [1. 0. 0. 0. 0. 0. 0. 0. 0. 0.]\n",
            "classical [0. 1. 0. 0. 0. 0. 0. 0. 0. 0.]\n",
            "reggae [0. 0. 1. 0. 0. 0. 0. 0. 0. 0.]\n",
            "rock [0. 0. 0. 1. 0. 0. 0. 0. 0. 0.]\n",
            "metal [0. 0. 0. 0. 1. 0. 0. 0. 0. 0.]\n",
            "hiphop [0. 0. 0. 0. 0. 1. 0. 0. 0. 0.]\n",
            "pop [0. 0. 0. 0. 0. 0. 1. 0. 0. 0.]\n",
            "jazz [0. 0. 0. 0. 0. 0. 0. 1. 0. 0.]\n",
            "blues [0. 0. 0. 0. 0. 0. 0. 0. 1. 0.]\n",
            "disco [0. 0. 0. 0. 0. 0. 0. 0. 0. 1.]\n"
          ]
        }
      ],
      "source": [
        "# Setup: path, one-hot vector for the labels\n",
        "# ----------------\n",
        "\n",
        "path =  r\"/kaggle/working/gtzan-dataset-music-genre-classification/1/Data/genres_original\"\n",
        "labels = [f.name for f in os.scandir(path) if f.is_dir()]\n",
        "\n",
        "# One-hot vector for the labels\n",
        "indices = [i for i in range(len(labels))]\n",
        "depth = len(labels)\n",
        "oh = tf.one_hot(indices, depth)\n",
        "oh_dict = {label:np.array(oh[i,:]) for i, label in enumerate(labels)}\n",
        "\n",
        "print(labels)\n",
        "for k, v in oh_dict.items():\n",
        "    print(k,v)\n",
        "\n",
        "for folder in labels:\n",
        "    folder_path = os.path.join(path, folder)  # Ensures proper path formatting\n",
        "    files = os.listdir(folder_path)  # List files in the correct folder\n",
        "    for file in files:\n",
        "        if file.endswith('.wav'):\n",
        "            n_files += 1"
      ]
    },
    {
      "cell_type": "code",
      "execution_count": 13,
      "id": "64443cd1",
      "metadata": {
        "id": "64443cd1"
      },
      "outputs": [],
      "source": [
        "# Global variables\n",
        "# ----------------\n",
        "\n",
        "H = 128 # height of the tensor\n",
        "\n",
        "N_FEATURES = 1 # Channels of the tensor\n",
        "N_FILES = n_files\n",
        "AUG_FEATURES = 5\n",
        "N_SLICES = 3\n",
        "M = N_FILES * N_SLICES * (AUG_FEATURES + 1) # Number of instances after the feature transform\n"
      ]
    },
    {
      "cell_type": "code",
      "execution_count": 21,
      "id": "cbfed683",
      "metadata": {
        "id": "cbfed683"
      },
      "outputs": [],
      "source": [
        "import os\n",
        "import numpy as np\n",
        "import librosa as lb\n",
        "import h5py\n",
        "\n",
        "# Constants\n",
        "N_SLICES = 5  # Adjust based on sample length\n",
        "AUGMENTATION_MULTIPLIER = 5  # Number of augmentations per sample\n",
        "\n",
        "def read_sample(file):\n",
        "    \"\"\"Load a single audio file.\"\"\"\n",
        "    y, sr = lb.load(file, sr=None)  # Keep original sample rate\n",
        "    return y, sr\n",
        "\n",
        "def augment_sample(sample, sr):\n",
        "    \"\"\"\n",
        "    Perform data augmentation.\n",
        "    Returns a generator that yields augmented samples instead of storing them all in RAM.\n",
        "    \"\"\"\n",
        "    samples = np.array_split(sample, N_SLICES)\n",
        "    for sample_ in samples:\n",
        "        yield sample_  # Original\n",
        "\n",
        "        for n_steps in [4, 6]:  # Pitch Shift\n",
        "            yield lb.effects.pitch_shift(y=sample_, sr=sr, n_steps=n_steps)\n",
        "\n",
        "        for rate in [0.5, 2.0]:  # Time Stretch\n",
        "            yield lb.effects.time_stretch(y=sample_, rate=rate)\n",
        "\n",
        "        wn = np.random.randn(len(sample_))  # White Noise\n",
        "        yield sample_ + 0.005 * wn\n",
        "\n",
        "def process_and_store_data(path, folders, output_file=\"dataset.h5\", batch_size=100):\n",
        "    \"\"\"\n",
        "    Reads and processes the dataset in batches, storing it in an HDF5 file to avoid memory overflow.\n",
        "    \"\"\"\n",
        "    # Get input length from the first file\n",
        "    input_length = None\n",
        "    for folder in folders:\n",
        "        files = [f for f in os.listdir(os.path.join(path, folder)) if f.endswith('.wav')]\n",
        "        if files:\n",
        "            sample, sr = read_sample(os.path.join(path, folder, files[0]))\n",
        "            input_length = len(sample) // N_SLICES\n",
        "            break\n",
        "\n",
        "    if input_length is None:\n",
        "        raise ValueError(\"No valid WAV files found.\")\n",
        "\n",
        "    # Determine dataset size dynamically\n",
        "    total_samples = sum(len([f for f in os.listdir(os.path.join(path, folder)) if f.endswith('.wav')])\n",
        "                        * AUGMENTATION_MULTIPLIER for folder in folders)\n",
        "\n",
        "    # Create HDF5 file for storage\n",
        "    with h5py.File(output_file, \"w\") as f:\n",
        "        x_dataset = f.create_dataset(\"X\", (total_samples, input_length), dtype=np.float32)\n",
        "        y_dataset = f.create_dataset(\"Y\", (total_samples, 10), dtype=np.uint8)\n",
        "\n",
        "        idx = 0\n",
        "        for folder in folders:\n",
        "            print(f\"Processing {folder}...\")\n",
        "            files = [f for f in os.listdir(os.path.join(path, folder)) if f.endswith('.wav')]\n",
        "            for file in files:\n",
        "                sample, sr = read_sample(os.path.join(path, folder, file))\n",
        "                for aug_sample in augment_sample(sample, sr):\n",
        "                    if len(aug_sample) > input_length:\n",
        "                        aug_sample = aug_sample[:input_length]\n",
        "                    else:\n",
        "                        aug_sample = np.pad(aug_sample, (0, input_length - len(aug_sample)))\n",
        "\n",
        "                    x_dataset[idx] = aug_sample\n",
        "                    y_dataset[idx] = oh_dict[folder]  # One-hot encoding\n",
        "                    idx += 1\n",
        "\n",
        "                    if idx % batch_size == 0:\n",
        "                        print(f\"Processed {idx}/{total_samples} samples...\")\n",
        "\n",
        "        print(f\"Data processing complete! Stored in {output_file}.\")\n",
        "\n",
        "def load_data_from_hdf5(file=\"dataset.h5\"):\n",
        "    \"\"\"\n",
        "    Load dataset from HDF5 file without excessive memory usage.\n",
        "    \"\"\"\n",
        "    with h5py.File(file, \"r\") as f:\n",
        "        X = f[\"X\"][:]\n",
        "        Y = f[\"Y\"][:]\n",
        "    return X, Y\n"
      ]
    },
    {
      "cell_type": "code",
      "execution_count": 22,
      "id": "c865f5b7",
      "metadata": {
        "id": "c865f5b7",
        "outputId": "20de7cd9-bbbe-45ad-f324-7bbe4986e035",
        "colab": {
          "base_uri": "https://localhost:8080/",
          "height": 408
        }
      },
      "outputs": [
        {
          "output_type": "stream",
          "name": "stdout",
          "text": [
            "(18000, 132358) (18000, 10)\n",
            "Reading country\n"
          ]
        },
        {
          "output_type": "error",
          "ename": "KeyboardInterrupt",
          "evalue": "",
          "traceback": [
            "\u001b[0;31m---------------------------------------------------------------------------\u001b[0m",
            "\u001b[0;31mKeyboardInterrupt\u001b[0m                         Traceback (most recent call last)",
            "\u001b[0;32m<ipython-input-22-a1fb5cdd3d9c>\u001b[0m in \u001b[0;36m<cell line: 0>\u001b[0;34m()\u001b[0m\n\u001b[1;32m      3\u001b[0m \u001b[0;31m# saving it into disk in case we need to load it\u001b[0m\u001b[0;34m\u001b[0m\u001b[0;34m\u001b[0m\u001b[0m\n\u001b[1;32m      4\u001b[0m \u001b[0;34m\u001b[0m\u001b[0m\n\u001b[0;32m----> 5\u001b[0;31m \u001b[0mx_raw\u001b[0m\u001b[0;34m,\u001b[0m \u001b[0my_raw\u001b[0m\u001b[0;34m,\u001b[0m \u001b[0msr\u001b[0m \u001b[0;34m=\u001b[0m \u001b[0mread_raw_data\u001b[0m\u001b[0;34m(\u001b[0m\u001b[0mpath\u001b[0m\u001b[0;34m,\u001b[0m \u001b[0mlabels\u001b[0m\u001b[0;34m)\u001b[0m\u001b[0;34m\u001b[0m\u001b[0;34m\u001b[0m\u001b[0m\n\u001b[0m\u001b[1;32m      6\u001b[0m \u001b[0mprint\u001b[0m\u001b[0;34m(\u001b[0m\u001b[0mx_raw\u001b[0m\u001b[0;34m.\u001b[0m\u001b[0mshape\u001b[0m\u001b[0;34m,\u001b[0m \u001b[0my_raw\u001b[0m\u001b[0;34m.\u001b[0m\u001b[0mshape\u001b[0m\u001b[0;34m)\u001b[0m\u001b[0;34m\u001b[0m\u001b[0;34m\u001b[0m\u001b[0m\n\u001b[1;32m      7\u001b[0m \u001b[0;31m# np.save('../data/x_raw_3_slice', x_raw)\u001b[0m\u001b[0;34m\u001b[0m\u001b[0;34m\u001b[0m\u001b[0m\n",
            "\u001b[0;32m<ipython-input-19-92cdee210045>\u001b[0m in \u001b[0;36mread_raw_data\u001b[0;34m(path, folders)\u001b[0m\n\u001b[1;32m     97\u001b[0m                 \u001b[0msample\u001b[0m\u001b[0;34m,\u001b[0m \u001b[0msr\u001b[0m \u001b[0;34m=\u001b[0m \u001b[0mread_sample\u001b[0m\u001b[0;34m(\u001b[0m\u001b[0mpath\u001b[0m\u001b[0;34m+\u001b[0m\u001b[0mfolder\u001b[0m\u001b[0;34m+\u001b[0m\u001b[0;34m'/'\u001b[0m\u001b[0;34m+\u001b[0m\u001b[0mfile\u001b[0m\u001b[0;34m)\u001b[0m\u001b[0;34m\u001b[0m\u001b[0;34m\u001b[0m\u001b[0m\n\u001b[1;32m     98\u001b[0m                 \u001b[0maug_samples\u001b[0m \u001b[0;34m=\u001b[0m \u001b[0maugment_sample\u001b[0m\u001b[0;34m(\u001b[0m\u001b[0msample\u001b[0m\u001b[0;34m,\u001b[0m \u001b[0msr\u001b[0m\u001b[0;34m)\u001b[0m\u001b[0;34m\u001b[0m\u001b[0;34m\u001b[0m\u001b[0m\n\u001b[0;32m---> 99\u001b[0;31m                 \u001b[0;32mfor\u001b[0m \u001b[0msample_\u001b[0m \u001b[0;32min\u001b[0m \u001b[0maug_samples\u001b[0m\u001b[0;34m:\u001b[0m\u001b[0;34m\u001b[0m\u001b[0;34m\u001b[0m\u001b[0m\n\u001b[0m\u001b[1;32m    100\u001b[0m                     \u001b[0;31m# padding or shorten sample\u001b[0m\u001b[0;34m\u001b[0m\u001b[0;34m\u001b[0m\u001b[0m\n\u001b[1;32m    101\u001b[0m                     \u001b[0;32mif\u001b[0m \u001b[0mlen\u001b[0m\u001b[0;34m(\u001b[0m\u001b[0msample_\u001b[0m\u001b[0;34m)\u001b[0m \u001b[0;34m>\u001b[0m \u001b[0minput_length\u001b[0m\u001b[0;34m:\u001b[0m\u001b[0;34m\u001b[0m\u001b[0;34m\u001b[0m\u001b[0m\n",
            "\u001b[0;32m<ipython-input-21-6d66d672d96f>\u001b[0m in \u001b[0;36maugment_sample\u001b[0;34m(sample, sr)\u001b[0m\n\u001b[1;32m     23\u001b[0m \u001b[0;34m\u001b[0m\u001b[0m\n\u001b[1;32m     24\u001b[0m         \u001b[0;32mfor\u001b[0m \u001b[0mn_steps\u001b[0m \u001b[0;32min\u001b[0m \u001b[0;34m[\u001b[0m\u001b[0;36m4\u001b[0m\u001b[0;34m,\u001b[0m \u001b[0;36m6\u001b[0m\u001b[0;34m]\u001b[0m\u001b[0;34m:\u001b[0m  \u001b[0;31m# Pitch Shift\u001b[0m\u001b[0;34m\u001b[0m\u001b[0;34m\u001b[0m\u001b[0m\n\u001b[0;32m---> 25\u001b[0;31m             \u001b[0;32myield\u001b[0m \u001b[0mlb\u001b[0m\u001b[0;34m.\u001b[0m\u001b[0meffects\u001b[0m\u001b[0;34m.\u001b[0m\u001b[0mpitch_shift\u001b[0m\u001b[0;34m(\u001b[0m\u001b[0my\u001b[0m\u001b[0;34m=\u001b[0m\u001b[0msample_\u001b[0m\u001b[0;34m,\u001b[0m \u001b[0msr\u001b[0m\u001b[0;34m=\u001b[0m\u001b[0msr\u001b[0m\u001b[0;34m,\u001b[0m \u001b[0mn_steps\u001b[0m\u001b[0;34m=\u001b[0m\u001b[0mn_steps\u001b[0m\u001b[0;34m)\u001b[0m\u001b[0;34m\u001b[0m\u001b[0;34m\u001b[0m\u001b[0m\n\u001b[0m\u001b[1;32m     26\u001b[0m \u001b[0;34m\u001b[0m\u001b[0m\n\u001b[1;32m     27\u001b[0m         \u001b[0;32mfor\u001b[0m \u001b[0mrate\u001b[0m \u001b[0;32min\u001b[0m \u001b[0;34m[\u001b[0m\u001b[0;36m0.5\u001b[0m\u001b[0;34m,\u001b[0m \u001b[0;36m2.0\u001b[0m\u001b[0;34m]\u001b[0m\u001b[0;34m:\u001b[0m  \u001b[0;31m# Time Stretch\u001b[0m\u001b[0;34m\u001b[0m\u001b[0;34m\u001b[0m\u001b[0m\n",
            "\u001b[0;32m/usr/local/lib/python3.11/dist-packages/librosa/effects.py\u001b[0m in \u001b[0;36mpitch_shift\u001b[0;34m(y, sr, n_steps, bins_per_octave, res_type, scale, **kwargs)\u001b[0m\n\u001b[1;32m    480\u001b[0m     \u001b[0;31m# Stretch in time, then resample\u001b[0m\u001b[0;34m\u001b[0m\u001b[0;34m\u001b[0m\u001b[0m\n\u001b[1;32m    481\u001b[0m     y_shift = core.resample(\n\u001b[0;32m--> 482\u001b[0;31m         \u001b[0mtime_stretch\u001b[0m\u001b[0;34m(\u001b[0m\u001b[0my\u001b[0m\u001b[0;34m,\u001b[0m \u001b[0mrate\u001b[0m\u001b[0;34m=\u001b[0m\u001b[0mrate\u001b[0m\u001b[0;34m,\u001b[0m \u001b[0;34m**\u001b[0m\u001b[0mkwargs\u001b[0m\u001b[0;34m)\u001b[0m\u001b[0;34m,\u001b[0m\u001b[0;34m\u001b[0m\u001b[0;34m\u001b[0m\u001b[0m\n\u001b[0m\u001b[1;32m    483\u001b[0m         \u001b[0morig_sr\u001b[0m\u001b[0;34m=\u001b[0m\u001b[0mfloat\u001b[0m\u001b[0;34m(\u001b[0m\u001b[0msr\u001b[0m\u001b[0;34m)\u001b[0m \u001b[0;34m/\u001b[0m \u001b[0mrate\u001b[0m\u001b[0;34m,\u001b[0m\u001b[0;34m\u001b[0m\u001b[0;34m\u001b[0m\u001b[0m\n\u001b[1;32m    484\u001b[0m         \u001b[0mtarget_sr\u001b[0m\u001b[0;34m=\u001b[0m\u001b[0msr\u001b[0m\u001b[0;34m,\u001b[0m\u001b[0;34m\u001b[0m\u001b[0;34m\u001b[0m\u001b[0m\n",
            "\u001b[0;32m/usr/local/lib/python3.11/dist-packages/librosa/effects.py\u001b[0m in \u001b[0;36mtime_stretch\u001b[0;34m(y, rate, **kwargs)\u001b[0m\n\u001b[1;32m    382\u001b[0m \u001b[0;34m\u001b[0m\u001b[0m\n\u001b[1;32m    383\u001b[0m     \u001b[0;31m# Construct the short-term Fourier transform (STFT)\u001b[0m\u001b[0;34m\u001b[0m\u001b[0;34m\u001b[0m\u001b[0m\n\u001b[0;32m--> 384\u001b[0;31m     \u001b[0mstft\u001b[0m \u001b[0;34m=\u001b[0m \u001b[0mcore\u001b[0m\u001b[0;34m.\u001b[0m\u001b[0mstft\u001b[0m\u001b[0;34m(\u001b[0m\u001b[0my\u001b[0m\u001b[0;34m,\u001b[0m \u001b[0;34m**\u001b[0m\u001b[0mkwargs\u001b[0m\u001b[0;34m)\u001b[0m\u001b[0;34m\u001b[0m\u001b[0;34m\u001b[0m\u001b[0m\n\u001b[0m\u001b[1;32m    385\u001b[0m \u001b[0;34m\u001b[0m\u001b[0m\n\u001b[1;32m    386\u001b[0m     \u001b[0;31m# Stretch by phase vocoding\u001b[0m\u001b[0;34m\u001b[0m\u001b[0;34m\u001b[0m\u001b[0m\n",
            "\u001b[0;32m/usr/local/lib/python3.11/dist-packages/librosa/core/spectrum.py\u001b[0m in \u001b[0;36mstft\u001b[0;34m(y, n_fft, hop_length, win_length, window, center, dtype, pad_mode, out)\u001b[0m\n\u001b[1;32m    385\u001b[0m         \u001b[0mbl_t\u001b[0m \u001b[0;34m=\u001b[0m \u001b[0mmin\u001b[0m\u001b[0;34m(\u001b[0m\u001b[0mbl_s\u001b[0m \u001b[0;34m+\u001b[0m \u001b[0mn_columns\u001b[0m\u001b[0;34m,\u001b[0m \u001b[0my_frames\u001b[0m\u001b[0;34m.\u001b[0m\u001b[0mshape\u001b[0m\u001b[0;34m[\u001b[0m\u001b[0;34m-\u001b[0m\u001b[0;36m1\u001b[0m\u001b[0;34m]\u001b[0m\u001b[0;34m)\u001b[0m\u001b[0;34m\u001b[0m\u001b[0;34m\u001b[0m\u001b[0m\n\u001b[1;32m    386\u001b[0m \u001b[0;34m\u001b[0m\u001b[0m\n\u001b[0;32m--> 387\u001b[0;31m         stft_matrix[..., bl_s + off_start : bl_t + off_start] = fft.rfft(\n\u001b[0m\u001b[1;32m    388\u001b[0m             \u001b[0mfft_window\u001b[0m \u001b[0;34m*\u001b[0m \u001b[0my_frames\u001b[0m\u001b[0;34m[\u001b[0m\u001b[0;34m...\u001b[0m\u001b[0;34m,\u001b[0m \u001b[0mbl_s\u001b[0m\u001b[0;34m:\u001b[0m\u001b[0mbl_t\u001b[0m\u001b[0;34m]\u001b[0m\u001b[0;34m,\u001b[0m \u001b[0maxis\u001b[0m\u001b[0;34m=\u001b[0m\u001b[0;34m-\u001b[0m\u001b[0;36m2\u001b[0m\u001b[0;34m\u001b[0m\u001b[0;34m\u001b[0m\u001b[0m\n\u001b[1;32m    389\u001b[0m         )\n",
            "\u001b[0;32m/usr/local/lib/python3.11/dist-packages/numpy/fft/_pocketfft.py\u001b[0m in \u001b[0;36mrfft\u001b[0;34m(a, n, axis, norm)\u001b[0m\n\u001b[1;32m    407\u001b[0m         \u001b[0mn\u001b[0m \u001b[0;34m=\u001b[0m \u001b[0ma\u001b[0m\u001b[0;34m.\u001b[0m\u001b[0mshape\u001b[0m\u001b[0;34m[\u001b[0m\u001b[0maxis\u001b[0m\u001b[0;34m]\u001b[0m\u001b[0;34m\u001b[0m\u001b[0;34m\u001b[0m\u001b[0m\n\u001b[1;32m    408\u001b[0m     \u001b[0minv_norm\u001b[0m \u001b[0;34m=\u001b[0m \u001b[0m_get_forward_norm\u001b[0m\u001b[0;34m(\u001b[0m\u001b[0mn\u001b[0m\u001b[0;34m,\u001b[0m \u001b[0mnorm\u001b[0m\u001b[0;34m)\u001b[0m\u001b[0;34m\u001b[0m\u001b[0;34m\u001b[0m\u001b[0m\n\u001b[0;32m--> 409\u001b[0;31m     \u001b[0moutput\u001b[0m \u001b[0;34m=\u001b[0m \u001b[0m_raw_fft\u001b[0m\u001b[0;34m(\u001b[0m\u001b[0ma\u001b[0m\u001b[0;34m,\u001b[0m \u001b[0mn\u001b[0m\u001b[0;34m,\u001b[0m \u001b[0maxis\u001b[0m\u001b[0;34m,\u001b[0m \u001b[0;32mTrue\u001b[0m\u001b[0;34m,\u001b[0m \u001b[0;32mTrue\u001b[0m\u001b[0;34m,\u001b[0m \u001b[0minv_norm\u001b[0m\u001b[0;34m)\u001b[0m\u001b[0;34m\u001b[0m\u001b[0;34m\u001b[0m\u001b[0m\n\u001b[0m\u001b[1;32m    410\u001b[0m     \u001b[0;32mreturn\u001b[0m \u001b[0moutput\u001b[0m\u001b[0;34m\u001b[0m\u001b[0;34m\u001b[0m\u001b[0m\n\u001b[1;32m    411\u001b[0m \u001b[0;34m\u001b[0m\u001b[0m\n",
            "\u001b[0;32m/usr/local/lib/python3.11/dist-packages/numpy/fft/_pocketfft.py\u001b[0m in \u001b[0;36m_raw_fft\u001b[0;34m(a, n, axis, is_real, is_forward, inv_norm)\u001b[0m\n\u001b[1;32m     71\u001b[0m     \u001b[0;32melse\u001b[0m\u001b[0;34m:\u001b[0m\u001b[0;34m\u001b[0m\u001b[0;34m\u001b[0m\u001b[0m\n\u001b[1;32m     72\u001b[0m         \u001b[0ma\u001b[0m \u001b[0;34m=\u001b[0m \u001b[0mswapaxes\u001b[0m\u001b[0;34m(\u001b[0m\u001b[0ma\u001b[0m\u001b[0;34m,\u001b[0m \u001b[0maxis\u001b[0m\u001b[0;34m,\u001b[0m \u001b[0;34m-\u001b[0m\u001b[0;36m1\u001b[0m\u001b[0;34m)\u001b[0m\u001b[0;34m\u001b[0m\u001b[0;34m\u001b[0m\u001b[0m\n\u001b[0;32m---> 73\u001b[0;31m         \u001b[0mr\u001b[0m \u001b[0;34m=\u001b[0m \u001b[0mpfi\u001b[0m\u001b[0;34m.\u001b[0m\u001b[0mexecute\u001b[0m\u001b[0;34m(\u001b[0m\u001b[0ma\u001b[0m\u001b[0;34m,\u001b[0m \u001b[0mis_real\u001b[0m\u001b[0;34m,\u001b[0m \u001b[0mis_forward\u001b[0m\u001b[0;34m,\u001b[0m \u001b[0mfct\u001b[0m\u001b[0;34m)\u001b[0m\u001b[0;34m\u001b[0m\u001b[0;34m\u001b[0m\u001b[0m\n\u001b[0m\u001b[1;32m     74\u001b[0m         \u001b[0mr\u001b[0m \u001b[0;34m=\u001b[0m \u001b[0mswapaxes\u001b[0m\u001b[0;34m(\u001b[0m\u001b[0mr\u001b[0m\u001b[0;34m,\u001b[0m \u001b[0maxis\u001b[0m\u001b[0;34m,\u001b[0m \u001b[0;34m-\u001b[0m\u001b[0;36m1\u001b[0m\u001b[0;34m)\u001b[0m\u001b[0;34m\u001b[0m\u001b[0;34m\u001b[0m\u001b[0m\n\u001b[1;32m     75\u001b[0m     \u001b[0;32mreturn\u001b[0m \u001b[0mr\u001b[0m\u001b[0;34m\u001b[0m\u001b[0;34m\u001b[0m\u001b[0m\n",
            "\u001b[0;31mKeyboardInterrupt\u001b[0m: "
          ]
        }
      ],
      "source": [
        "# Reading raw data from files\n",
        "# -------------\n",
        "# saving it into disk in case we need to load it\n",
        "\n",
        "x_raw, y_raw, sr = read_raw_data(path, labels)\n",
        "print(x_raw.shape, y_raw.shape)\n",
        "# np.save('../data/x_raw_3_slice', x_raw)\n",
        "# np.save('../data/y_raw_3_slice', y_raw)"
      ]
    },
    {
      "cell_type": "code",
      "execution_count": null,
      "id": "506cf60f",
      "metadata": {
        "id": "506cf60f"
      },
      "outputs": [],
      "source": [
        "plt.plot(x_raw[:,0])"
      ]
    },
    {
      "cell_type": "code",
      "execution_count": null,
      "id": "527144ad",
      "metadata": {
        "id": "527144ad"
      },
      "outputs": [],
      "source": [
        "# Run only if we are loading the data\n",
        "\n",
        "x_raw = np.load('../data/x_raw_3_slice.npy')\n",
        "y_raw = np.load('../data/y_raw_3_slice.npy')\n",
        "_,sr = read_sample(path+'blues/'+'blues.00000.wav')"
      ]
    },
    {
      "cell_type": "code",
      "execution_count": null,
      "id": "53981323",
      "metadata": {
        "id": "53981323",
        "outputId": "f67917fb-3aab-4871-ff10-5f077869c63f"
      },
      "outputs": [
        {
          "name": "stdout",
          "output_type": "stream",
          "text": [
            "(18000, 128, 431, 1)\n",
            "(18000, 10)\n"
          ]
        }
      ],
      "source": [
        "# Creating the tensor with the features\n",
        "# -----------\n",
        "\n",
        "X = create_dataset(x_raw, sr)\n",
        "Y = np.copy(y_raw)\n",
        "print(X.shape)\n",
        "print(Y.shape)"
      ]
    },
    {
      "cell_type": "code",
      "execution_count": null,
      "id": "0640e6ce",
      "metadata": {
        "id": "0640e6ce"
      },
      "outputs": [],
      "source": [
        "assert X.shape[0] == Y.shape[0], \"X, Y shapes don't match\"\n",
        "assert Y.shape[1] == len(labels), \"Y shape doesn't match the shape of the labels\""
      ]
    },
    {
      "cell_type": "code",
      "execution_count": null,
      "id": "236163bf",
      "metadata": {
        "id": "236163bf",
        "outputId": "07897de8-361a-417d-b0f7-2bcf7fdb282b"
      },
      "outputs": [
        {
          "name": "stdout",
          "output_type": "stream",
          "text": [
            "Train: (14400, 128, 431, 1) (14400, 10)\n",
            "Valid: (1800, 128, 431, 1)   (1800, 10)\n",
            "Test:  (1800, 128, 431, 1)  (1800, 10)\n"
          ]
        }
      ],
      "source": [
        "# Train, validation, test split\n",
        "# ------------\n",
        "# 80% for training, 10% for validation and 10% for testing\n",
        "\n",
        "x_train, x_test_valid, y_train, y_test_valid = train_test_split(X,Y, train_size=0.8)\n",
        "x_val, x_test, y_val, y_test = train_test_split(x_test_valid,y_test_valid, test_size=0.5)\n",
        "\n",
        "print(f'Train: {x_train.shape} {y_train.shape}')\n",
        "print(f'Valid: {x_val.shape}   {y_val.shape}')\n",
        "print(f'Test:  {x_test.shape}  {y_test.shape}')\n"
      ]
    },
    {
      "cell_type": "markdown",
      "id": "82a622f4",
      "metadata": {
        "id": "82a622f4"
      },
      "source": [
        "## 2. Modeling\n",
        "- CNN-64\n",
        "- LeNet-5"
      ]
    },
    {
      "cell_type": "markdown",
      "id": "9323db1f",
      "metadata": {
        "id": "9323db1f"
      },
      "source": [
        "### LeNet-5"
      ]
    },
    {
      "cell_type": "code",
      "execution_count": null,
      "id": "08270e9c",
      "metadata": {
        "id": "08270e9c"
      },
      "outputs": [],
      "source": [
        "# LeNet-5\n",
        "# -----\n",
        "input_shape = (X.shape[1], X.shape[2], X.shape[3])\n",
        "inputs = keras.Input(shape=input_shape)\n",
        "\n",
        "x = layers.Conv2D(8, (3,3), activation='relu')(inputs)\n",
        "x = layers.AveragePooling2D()(x)\n",
        "x = layers.Dropout(0.2)(x)\n",
        "x = layers.Conv2D(16, (3,3), activation='relu')(x)\n",
        "x = layers.AveragePooling2D()(x)\n",
        "x = layers.Dropout(0.2)(x)\n",
        "x = layers.Flatten()(x)\n",
        "\n",
        "x = layers.Dense(120, activation='relu')(x)\n",
        "x = layers.Dropout(0.3)(x)\n",
        "x = layers.Dense(84, activation='relu')(x)\n",
        "x = layers.Dropout(0.4)(x)\n",
        "outputs = layers.Dense(10, activation = 'softmax')(x)"
      ]
    },
    {
      "cell_type": "code",
      "execution_count": null,
      "id": "3a2149cb",
      "metadata": {
        "scrolled": false,
        "id": "3a2149cb",
        "outputId": "4abbff31-7699-4fda-be5b-643b8400b01c"
      },
      "outputs": [
        {
          "name": "stdout",
          "output_type": "stream",
          "text": [
            "Model: \"model_8\"\n",
            "_________________________________________________________________\n",
            "Layer (type)                 Output Shape              Param #   \n",
            "=================================================================\n",
            "input_8 (InputLayer)         [(None, 128, 431, 1)]     0         \n",
            "_________________________________________________________________\n",
            "conv2d_17 (Conv2D)           (None, 126, 429, 8)       80        \n",
            "_________________________________________________________________\n",
            "average_pooling2d_2 (Average (None, 63, 214, 8)        0         \n",
            "_________________________________________________________________\n",
            "dropout_20 (Dropout)         (None, 63, 214, 8)        0         \n",
            "_________________________________________________________________\n",
            "conv2d_18 (Conv2D)           (None, 61, 212, 16)       1168      \n",
            "_________________________________________________________________\n",
            "average_pooling2d_3 (Average (None, 30, 106, 16)       0         \n",
            "_________________________________________________________________\n",
            "dropout_21 (Dropout)         (None, 30, 106, 16)       0         \n",
            "_________________________________________________________________\n",
            "flatten_5 (Flatten)          (None, 50880)             0         \n",
            "_________________________________________________________________\n",
            "dense_10 (Dense)             (None, 120)               6105720   \n",
            "_________________________________________________________________\n",
            "dropout_22 (Dropout)         (None, 120)               0         \n",
            "_________________________________________________________________\n",
            "dense_11 (Dense)             (None, 84)                10164     \n",
            "_________________________________________________________________\n",
            "dropout_23 (Dropout)         (None, 84)                0         \n",
            "_________________________________________________________________\n",
            "dense_12 (Dense)             (None, 10)                850       \n",
            "=================================================================\n",
            "Total params: 6,117,982\n",
            "Trainable params: 6,117,982\n",
            "Non-trainable params: 0\n",
            "_________________________________________________________________\n"
          ]
        }
      ],
      "source": [
        "lenet = models.Model(inputs = inputs, outputs=outputs)\n",
        "optimizer = optimizers.Adam(learning_rate = 0.001)\n",
        "lenet.compile(optimizer, loss=losses.CategoricalCrossentropy(), metrics=['accuracy'])\n",
        "lenet.summary()"
      ]
    },
    {
      "cell_type": "code",
      "execution_count": null,
      "id": "1ed8e7d9",
      "metadata": {
        "scrolled": false,
        "id": "1ed8e7d9",
        "outputId": "5b4d3e65-d005-42b1-f78b-71566d4b26ef"
      },
      "outputs": [
        {
          "name": "stdout",
          "output_type": "stream",
          "text": [
            "Epoch 1/20\n",
            "450/450 [==============================] - 111s 245ms/step - loss: 1.8968 - accuracy: 0.3035 - val_loss: 1.6332 - val_accuracy: 0.4133\n",
            "Epoch 2/20\n",
            "450/450 [==============================] - 101s 224ms/step - loss: 1.4993 - accuracy: 0.4564 - val_loss: 1.3039 - val_accuracy: 0.5500\n",
            "Epoch 3/20\n",
            "450/450 [==============================] - 101s 225ms/step - loss: 1.2724 - accuracy: 0.5460 - val_loss: 1.1724 - val_accuracy: 0.5828\n",
            "Epoch 4/20\n",
            "450/450 [==============================] - 101s 225ms/step - loss: 1.0858 - accuracy: 0.6142 - val_loss: 1.0174 - val_accuracy: 0.6500\n",
            "Epoch 5/20\n",
            "450/450 [==============================] - 102s 226ms/step - loss: 0.9215 - accuracy: 0.6750 - val_loss: 0.8992 - val_accuracy: 0.6933\n",
            "Epoch 6/20\n",
            "450/450 [==============================] - 101s 225ms/step - loss: 0.8144 - accuracy: 0.7126 - val_loss: 0.8685 - val_accuracy: 0.7144\n",
            "Epoch 7/20\n",
            "450/450 [==============================] - 101s 225ms/step - loss: 0.7196 - accuracy: 0.7465 - val_loss: 0.8422 - val_accuracy: 0.7206\n",
            "Epoch 8/20\n",
            "450/450 [==============================] - 101s 225ms/step - loss: 0.6362 - accuracy: 0.7781 - val_loss: 0.7988 - val_accuracy: 0.7467\n",
            "Epoch 9/20\n",
            "450/450 [==============================] - 102s 228ms/step - loss: 0.5746 - accuracy: 0.8006 - val_loss: 0.8387 - val_accuracy: 0.7411\n",
            "Epoch 10/20\n",
            "450/450 [==============================] - 101s 225ms/step - loss: 0.5261 - accuracy: 0.8171 - val_loss: 0.8051 - val_accuracy: 0.7544\n",
            "Epoch 11/20\n",
            "450/450 [==============================] - 102s 226ms/step - loss: 0.4907 - accuracy: 0.8322 - val_loss: 0.8647 - val_accuracy: 0.7322\n",
            "Epoch 12/20\n",
            "450/450 [==============================] - 102s 226ms/step - loss: 0.4458 - accuracy: 0.8453 - val_loss: 0.7955 - val_accuracy: 0.7683\n",
            "Epoch 13/20\n",
            "450/450 [==============================] - 101s 225ms/step - loss: 0.4048 - accuracy: 0.8603 - val_loss: 0.8718 - val_accuracy: 0.7500\n",
            "Epoch 14/20\n",
            "450/450 [==============================] - 101s 225ms/step - loss: 0.4004 - accuracy: 0.8609 - val_loss: 0.7796 - val_accuracy: 0.7794\n",
            "Epoch 15/20\n",
            "450/450 [==============================] - 105s 234ms/step - loss: 0.3616 - accuracy: 0.8741 - val_loss: 0.8245 - val_accuracy: 0.7728\n",
            "Epoch 16/20\n",
            "450/450 [==============================] - 102s 226ms/step - loss: 0.3376 - accuracy: 0.8833 - val_loss: 0.8600 - val_accuracy: 0.7700\n",
            "Epoch 17/20\n",
            "450/450 [==============================] - 101s 225ms/step - loss: 0.3332 - accuracy: 0.8851 - val_loss: 0.8188 - val_accuracy: 0.7756\n",
            "Epoch 18/20\n",
            "450/450 [==============================] - 101s 223ms/step - loss: 0.3102 - accuracy: 0.8944 - val_loss: 0.8606 - val_accuracy: 0.7633\n",
            "Epoch 19/20\n",
            "450/450 [==============================] - 101s 223ms/step - loss: 0.3011 - accuracy: 0.8961 - val_loss: 0.8916 - val_accuracy: 0.7678\n",
            "Epoch 20/20\n",
            "450/450 [==============================] - 102s 226ms/step - loss: 0.2887 - accuracy: 0.8994 - val_loss: 0.9111 - val_accuracy: 0.7639\n"
          ]
        }
      ],
      "source": [
        "epochs = 20\n",
        "\n",
        "history_lenet = lenet.fit(x=x_train,\n",
        "                          y=y_train,\n",
        "                          validation_data=(x_val, y_val),\n",
        "                          epochs=epochs,\n",
        "                          shuffle=True)"
      ]
    },
    {
      "cell_type": "code",
      "execution_count": null,
      "id": "d9e19074",
      "metadata": {
        "id": "d9e19074",
        "outputId": "34b030be-bdbe-42dc-ed2a-6fad8bc41f33"
      },
      "outputs": [
        {
          "name": "stdout",
          "output_type": "stream",
          "text": [
            "57/57 [==============================] - 4s 66ms/step - loss: 1.0697 - accuracy: 0.7456\n"
          ]
        },
        {
          "data": {
            "text/plain": [
              "[1.069667100906372, 0.745555579662323]"
            ]
          },
          "execution_count": 45,
          "metadata": {},
          "output_type": "execute_result"
        }
      ],
      "source": [
        "lenet.evaluate(x=x_test, y=y_test)"
      ]
    },
    {
      "cell_type": "code",
      "execution_count": null,
      "id": "2bf83648",
      "metadata": {
        "id": "2bf83648",
        "outputId": "b0d1fe73-033c-434f-da81-96370dc73d5b"
      },
      "outputs": [
        {
          "data": {
            "image/png": "[encoded data removed]",
            "text/plain": [
              "<Figure size 720x576 with 2 Axes>"
            ]
          },
          "metadata": {
            "needs_background": "light"
          },
          "output_type": "display_data"
        }
      ],
      "source": [
        "# HeatMap LeNet\n",
        "\n",
        "y_true = tf.argmax(y_test, axis=1)\n",
        "y_pred = tf.argmax(lenet.predict(x_test), axis=1)\n",
        "\n",
        "# Have to be 1-D vectors. Not one-hot encoded\n",
        "confusion_mtx = tf.math.confusion_matrix(y_true, y_pred)\n",
        "fig, ax = plt.subplots(figsize=(10, 8))\n",
        "sns.heatmap(confusion_mtx, xticklabels=labels, yticklabels=labels,\n",
        "            annot=True, fmt='g', ax=ax, cmap=\"viridis\", vmax=200)\n",
        "ax.set_xlabel('Prediction')\n",
        "ax.set_ylabel('Label')\n",
        "plt.savefig(\"../png/lenet_confmatrix.png\", dpi=150)\n",
        "plt.show()"
      ]
    },
    {
      "cell_type": "code",
      "execution_count": null,
      "id": "d06ea18a",
      "metadata": {
        "id": "d06ea18a"
      },
      "outputs": [],
      "source": [
        "plt.rcParams[\"axes.prop_cycle\"] = plt.cycler(\"color\", plt.cm.Set1.colors)"
      ]
    },
    {
      "cell_type": "code",
      "execution_count": null,
      "id": "0ac7f4e2",
      "metadata": {
        "id": "0ac7f4e2",
        "outputId": "ff97f841-a683-45bf-e2f2-1fd34dbeee8c"
      },
      "outputs": [
        {
          "data": {
            "image/png": "[encoded data removed]",
            "text/plain": [
              "<Figure size 360x288 with 1 Axes>"
            ]
          },
          "metadata": {
            "needs_background": "light"
          },
          "output_type": "display_data"
        }
      ],
      "source": [
        "fig, ax = plt.subplots(figsize=(5,4))\n",
        "ax.plot(range(epochs), history_lenet.history['accuracy'], label='accuracy', lw=1.25)\n",
        "ax.plot(range(epochs), history_lenet.history['val_accuracy'], label='val accuracy', lw=1.25)\n",
        "ax.set_xlabel('Epochs')\n",
        "ax.set_ylabel('Accuracy')\n",
        "ax.set_xticks([i for i in range(0, epochs+1,2)])\n",
        "ax.legend()\n",
        "plt.savefig(\"../png/lenet_acc_epochs.png\", dpi=150)\n",
        "\n",
        "plt.show()"
      ]
    },
    {
      "cell_type": "markdown",
      "id": "d7b355ac",
      "metadata": {
        "id": "d7b355ac"
      },
      "source": [
        "### CNN-64"
      ]
    },
    {
      "cell_type": "code",
      "execution_count": null,
      "id": "f653c7a7",
      "metadata": {
        "id": "f653c7a7"
      },
      "outputs": [],
      "source": [
        "# CNN-64 Resizing + FC\n",
        "# --------\n",
        "\n",
        "n_filters = 64\n",
        "input_shape = (X.shape[1], X.shape[2], X.shape[3])\n",
        "inputs = keras.Input(shape=input_shape)\n",
        "x = preprocessing.Resizing(128, 128)(inputs)\n",
        "\n",
        "x = layers.Conv2D(n_filters, 3, activation='relu')(x)\n",
        "x = layers.MaxPooling2D((2,2))(x)\n",
        "x = layers.Dropout(0.2)(x)\n",
        "\n",
        "x = layers.Conv2D(n_filters, 3, activation='relu')(x)\n",
        "x = layers.MaxPooling2D((2,2))(x)\n",
        "x = layers.Dropout(0.2)(x)\n",
        "\n",
        "x = layers.Conv2D(n_filters, 3, activation='relu')(x)\n",
        "x = layers.MaxPooling2D((2,2))(x)\n",
        "x = layers.Dropout(0.2)(x)\n",
        "\n",
        "\n",
        "x = layers.Flatten()(x)\n",
        "x = layers.Dense(128, activation='relu')(x)\n",
        "x = layers.Dropout(0.4)(x)\n",
        "\n",
        "outputs = layers.Dense(10, activation='softmax')(x)"
      ]
    },
    {
      "cell_type": "code",
      "execution_count": null,
      "id": "bdadffa0",
      "metadata": {
        "id": "bdadffa0"
      },
      "outputs": [],
      "source": [
        "# Original\n",
        "# ---------\n",
        "\n",
        "n_filters = 64\n",
        "inputs = keras.Input(shape=input_shape)\n",
        "x = layers.Conv2D(n_filters, (3,3), activation='relu')(inputs)\n",
        "x = layers.MaxPooling2D((2,2))(x)\n",
        "x = layers.Dropout(0.2)(x)\n",
        "\n",
        "x = layers.Conv2D(n_filters, (3,3), activation='relu')(x)\n",
        "x = layers.MaxPooling2D((2,2))(x)\n",
        "x = layers.Dropout(0.2)(x)\n",
        "\n",
        "x = layers.Conv2D(n_filters, (3,3), activation='relu')(x)\n",
        "x = layers.MaxPooling2D((2,2))(x)\n",
        "x = layers.Dropout(0.2)(x)\n",
        "\n",
        "x = layers.Conv2D(n_filters, (3,3), activation='relu')(x)\n",
        "x = layers.MaxPooling2D((2,2))(x)\n",
        "x = layers.Dropout(0.3)(x)\n",
        "\n",
        "x = layers.Flatten()(x)\n",
        "outputs = layers.Dense(10, activation='softmax')(x)"
      ]
    },
    {
      "cell_type": "code",
      "execution_count": null,
      "id": "6adb5646",
      "metadata": {
        "scrolled": false,
        "id": "6adb5646",
        "outputId": "b308c36d-e33d-4428-8d66-003883aca74b"
      },
      "outputs": [
        {
          "name": "stdout",
          "output_type": "stream",
          "text": [
            "Model: \"model_1\"\n",
            "_________________________________________________________________\n",
            "Layer (type)                 Output Shape              Param #   \n",
            "=================================================================\n",
            "input_2 (InputLayer)         [(None, 128, 431, 1)]     0         \n",
            "_________________________________________________________________\n",
            "resizing_1 (Resizing)        (None, 128, 128, 1)       0         \n",
            "_________________________________________________________________\n",
            "conv2d_3 (Conv2D)            (None, 126, 126, 64)      640       \n",
            "_________________________________________________________________\n",
            "max_pooling2d_2 (MaxPooling2 (None, 63, 63, 64)        0         \n",
            "_________________________________________________________________\n",
            "dropout_4 (Dropout)          (None, 63, 63, 64)        0         \n",
            "_________________________________________________________________\n",
            "conv2d_4 (Conv2D)            (None, 61, 61, 64)        36928     \n",
            "_________________________________________________________________\n",
            "max_pooling2d_3 (MaxPooling2 (None, 30, 30, 64)        0         \n",
            "_________________________________________________________________\n",
            "dropout_5 (Dropout)          (None, 30, 30, 64)        0         \n",
            "_________________________________________________________________\n",
            "conv2d_5 (Conv2D)            (None, 28, 28, 64)        36928     \n",
            "_________________________________________________________________\n",
            "max_pooling2d_4 (MaxPooling2 (None, 14, 14, 64)        0         \n",
            "_________________________________________________________________\n",
            "dropout_6 (Dropout)          (None, 14, 14, 64)        0         \n",
            "_________________________________________________________________\n",
            "flatten_1 (Flatten)          (None, 12544)             0         \n",
            "_________________________________________________________________\n",
            "dense_2 (Dense)              (None, 128)               1605760   \n",
            "_________________________________________________________________\n",
            "dropout_7 (Dropout)          (None, 128)               0         \n",
            "_________________________________________________________________\n",
            "dense_3 (Dense)              (None, 10)                1290      \n",
            "=================================================================\n",
            "Total params: 1,681,546\n",
            "Trainable params: 1,681,546\n",
            "Non-trainable params: 0\n",
            "_________________________________________________________________\n"
          ]
        }
      ],
      "source": [
        "# Building the model. Compiling\n",
        "# --------------\n",
        "# Loss: Categorical Cross Entropy, since we have one-hot vectors.\n",
        "\n",
        "model = models.Model(inputs = inputs, outputs=outputs)\n",
        "optimizer = optimizers.Adam(learning_rate = 0.001)\n",
        "model.compile(optimizer, loss=losses.CategoricalCrossentropy(), metrics=['accuracy'])\n",
        "model.summary()"
      ]
    },
    {
      "cell_type": "code",
      "execution_count": null,
      "id": "fb38d72b",
      "metadata": {
        "scrolled": false,
        "id": "fb38d72b",
        "outputId": "263cc796-4bb3-4944-e5c1-044d6a45211c"
      },
      "outputs": [
        {
          "name": "stdout",
          "output_type": "stream",
          "text": [
            "Epoch 1/20\n",
            "450/450 [==============================] - 199s 439ms/step - loss: 1.9575 - accuracy: 0.2879 - val_loss: 1.5915 - val_accuracy: 0.4517\n",
            "Epoch 2/20\n",
            "450/450 [==============================] - 185s 412ms/step - loss: 1.5291 - accuracy: 0.4501 - val_loss: 1.4834 - val_accuracy: 0.4894\n",
            "Epoch 3/20\n",
            "450/450 [==============================] - 184s 408ms/step - loss: 1.3348 - accuracy: 0.5252 - val_loss: 1.1925 - val_accuracy: 0.5883\n",
            "Epoch 4/20\n",
            "450/450 [==============================] - 184s 408ms/step - loss: 1.2121 - accuracy: 0.5757 - val_loss: 1.0906 - val_accuracy: 0.6333\n",
            "Epoch 5/20\n",
            "450/450 [==============================] - 192s 427ms/step - loss: 1.1081 - accuracy: 0.6046 - val_loss: 0.9628 - val_accuracy: 0.6622\n",
            "Epoch 6/20\n",
            "450/450 [==============================] - 198s 439ms/step - loss: 1.0105 - accuracy: 0.6424 - val_loss: 0.8562 - val_accuracy: 0.7033\n",
            "Epoch 7/20\n",
            "450/450 [==============================] - 199s 441ms/step - loss: 0.9339 - accuracy: 0.6614 - val_loss: 0.8464 - val_accuracy: 0.7189\n",
            "Epoch 8/20\n",
            "450/450 [==============================] - 192s 426ms/step - loss: 0.8516 - accuracy: 0.6954 - val_loss: 0.7653 - val_accuracy: 0.7350\n",
            "Epoch 9/20\n",
            "450/450 [==============================] - 190s 421ms/step - loss: 0.8033 - accuracy: 0.7134 - val_loss: 0.7540 - val_accuracy: 0.7383\n",
            "Epoch 10/20\n",
            "450/450 [==============================] - 189s 420ms/step - loss: 0.7438 - accuracy: 0.7310 - val_loss: 0.7451 - val_accuracy: 0.7417\n",
            "Epoch 11/20\n",
            "450/450 [==============================] - 188s 419ms/step - loss: 0.7026 - accuracy: 0.7458 - val_loss: 0.6799 - val_accuracy: 0.7700\n",
            "Epoch 12/20\n",
            "450/450 [==============================] - 203s 452ms/step - loss: 0.6411 - accuracy: 0.7676 - val_loss: 0.6759 - val_accuracy: 0.7711\n",
            "Epoch 13/20\n",
            "450/450 [==============================] - 192s 427ms/step - loss: 0.6294 - accuracy: 0.7726 - val_loss: 0.6634 - val_accuracy: 0.7917\n",
            "Epoch 14/20\n",
            "450/450 [==============================] - 192s 427ms/step - loss: 0.6014 - accuracy: 0.7837 - val_loss: 0.6087 - val_accuracy: 0.7944\n",
            "Epoch 15/20\n",
            "450/450 [==============================] - 197s 439ms/step - loss: 0.5698 - accuracy: 0.7920 - val_loss: 0.6149 - val_accuracy: 0.8022\n",
            "Epoch 16/20\n",
            "450/450 [==============================] - 201s 448ms/step - loss: 0.5445 - accuracy: 0.8006 - val_loss: 0.6062 - val_accuracy: 0.7972\n",
            "Epoch 17/20\n",
            "450/450 [==============================] - 193s 428ms/step - loss: 0.5248 - accuracy: 0.8083 - val_loss: 0.6060 - val_accuracy: 0.8078\n",
            "Epoch 18/20\n",
            "450/450 [==============================] - 201s 447ms/step - loss: 0.4965 - accuracy: 0.8211 - val_loss: 0.6043 - val_accuracy: 0.8100\n",
            "Epoch 19/20\n",
            "450/450 [==============================] - 209s 464ms/step - loss: 0.4754 - accuracy: 0.8286 - val_loss: 0.6213 - val_accuracy: 0.8039\n",
            "Epoch 20/20\n",
            "450/450 [==============================] - 193s 429ms/step - loss: 0.4778 - accuracy: 0.8269 - val_loss: 0.6206 - val_accuracy: 0.8033\n"
          ]
        }
      ],
      "source": [
        "epochs = 20\n",
        "\n",
        "history = model.fit(x=x_train,\n",
        "                    y=y_train,\n",
        "                    validation_data=(x_val, y_val),\n",
        "                    epochs=epochs,\n",
        "                    shuffle=True)"
      ]
    },
    {
      "cell_type": "code",
      "execution_count": null,
      "id": "d51fc748",
      "metadata": {
        "scrolled": true,
        "id": "d51fc748",
        "outputId": "3111ec7b-f923-4a7c-98d2-d019bc508502"
      },
      "outputs": [
        {
          "name": "stdout",
          "output_type": "stream",
          "text": [
            "Epoch 21/50\n",
            "450/450 [==============================] - 236s 524ms/step - loss: 0.4612 - accuracy: 0.8306 - val_loss: 0.5855 - val_accuracy: 0.8139\n",
            "Epoch 22/50\n",
            "450/450 [==============================] - 191s 425ms/step - loss: 0.4392 - accuracy: 0.8389 - val_loss: 0.5825 - val_accuracy: 0.8067\n",
            "Epoch 23/50\n",
            "450/450 [==============================] - 182s 404ms/step - loss: 0.4205 - accuracy: 0.8467 - val_loss: 0.6201 - val_accuracy: 0.8094\n",
            "Epoch 24/50\n",
            "450/450 [==============================] - 180s 400ms/step - loss: 0.4138 - accuracy: 0.8504 - val_loss: 0.5520 - val_accuracy: 0.8411\n",
            "Epoch 25/50\n",
            "450/450 [==============================] - 179s 398ms/step - loss: 0.3917 - accuracy: 0.8593 - val_loss: 0.6241 - val_accuracy: 0.8122\n",
            "Epoch 26/50\n",
            "450/450 [==============================] - 179s 397ms/step - loss: 0.3837 - accuracy: 0.8609 - val_loss: 0.6205 - val_accuracy: 0.8250\n",
            "Epoch 27/50\n",
            "450/450 [==============================] - 180s 400ms/step - loss: 0.3748 - accuracy: 0.8620 - val_loss: 0.5330 - val_accuracy: 0.8378\n",
            "Epoch 28/50\n",
            "450/450 [==============================] - 181s 403ms/step - loss: 0.3664 - accuracy: 0.8708 - val_loss: 0.5566 - val_accuracy: 0.8406\n",
            "Epoch 29/50\n",
            "450/450 [==============================] - 179s 397ms/step - loss: 0.3661 - accuracy: 0.8669 - val_loss: 0.5887 - val_accuracy: 0.8228\n",
            "Epoch 30/50\n",
            "450/450 [==============================] - 179s 399ms/step - loss: 0.3561 - accuracy: 0.8706 - val_loss: 0.5140 - val_accuracy: 0.8422\n",
            "Epoch 31/50\n",
            "450/450 [==============================] - 179s 397ms/step - loss: 0.3313 - accuracy: 0.8806 - val_loss: 0.5849 - val_accuracy: 0.8256\n",
            "Epoch 32/50\n",
            "450/450 [==============================] - 179s 397ms/step - loss: 0.3308 - accuracy: 0.8816 - val_loss: 0.5480 - val_accuracy: 0.8439\n",
            "Epoch 33/50\n",
            "450/450 [==============================] - 179s 398ms/step - loss: 0.3238 - accuracy: 0.8821 - val_loss: 0.5875 - val_accuracy: 0.8322\n",
            "Epoch 34/50\n",
            "450/450 [==============================] - 180s 399ms/step - loss: 0.3157 - accuracy: 0.8872 - val_loss: 0.5176 - val_accuracy: 0.8461\n",
            "Epoch 35/50\n",
            "450/450 [==============================] - 179s 399ms/step - loss: 0.3000 - accuracy: 0.8892 - val_loss: 0.5645 - val_accuracy: 0.8361\n",
            "Epoch 36/50\n",
            "450/450 [==============================] - 179s 397ms/step - loss: 0.3010 - accuracy: 0.8888 - val_loss: 0.4985 - val_accuracy: 0.8556\n",
            "Epoch 37/50\n",
            "450/450 [==============================] - 179s 399ms/step - loss: 0.2931 - accuracy: 0.8930 - val_loss: 0.5310 - val_accuracy: 0.8439\n",
            "Epoch 38/50\n",
            "450/450 [==============================] - 179s 398ms/step - loss: 0.2920 - accuracy: 0.8928 - val_loss: 0.5933 - val_accuracy: 0.8439\n",
            "Epoch 39/50\n",
            "450/450 [==============================] - 179s 398ms/step - loss: 0.2877 - accuracy: 0.8931 - val_loss: 0.5349 - val_accuracy: 0.8478\n",
            "Epoch 40/50\n",
            "450/450 [==============================] - 180s 399ms/step - loss: 0.2870 - accuracy: 0.8972 - val_loss: 0.5174 - val_accuracy: 0.8583\n",
            "Epoch 41/50\n",
            "450/450 [==============================] - 179s 398ms/step - loss: 0.2756 - accuracy: 0.9009 - val_loss: 0.6826 - val_accuracy: 0.8256\n",
            "Epoch 42/50\n",
            "450/450 [==============================] - 180s 399ms/step - loss: 0.2691 - accuracy: 0.9029 - val_loss: 0.5664 - val_accuracy: 0.8500\n",
            "Epoch 43/50\n",
            "450/450 [==============================] - 180s 399ms/step - loss: 0.2674 - accuracy: 0.9029 - val_loss: 0.6412 - val_accuracy: 0.8322\n",
            "Epoch 44/50\n",
            "450/450 [==============================] - 180s 401ms/step - loss: 0.2721 - accuracy: 0.9022 - val_loss: 0.5595 - val_accuracy: 0.8528\n",
            "Epoch 45/50\n",
            "450/450 [==============================] - 180s 400ms/step - loss: 0.2700 - accuracy: 0.9033 - val_loss: 0.5892 - val_accuracy: 0.8417\n",
            "Epoch 46/50\n",
            "450/450 [==============================] - 180s 399ms/step - loss: 0.2568 - accuracy: 0.9066 - val_loss: 0.6246 - val_accuracy: 0.8467\n",
            "Epoch 47/50\n",
            "450/450 [==============================] - 192s 427ms/step - loss: 0.2469 - accuracy: 0.9123 - val_loss: 0.5607 - val_accuracy: 0.8511\n",
            "Epoch 48/50\n",
            "450/450 [==============================] - 180s 400ms/step - loss: 0.2470 - accuracy: 0.9117 - val_loss: 0.5451 - val_accuracy: 0.8544\n",
            "Epoch 49/50\n",
            "450/450 [==============================] - 181s 402ms/step - loss: 0.2427 - accuracy: 0.9133 - val_loss: 0.5253 - val_accuracy: 0.8578\n",
            "Epoch 50/50\n",
            "450/450 [==============================] - 180s 399ms/step - loss: 0.2395 - accuracy: 0.9106 - val_loss: 0.5499 - val_accuracy: 0.8606\n"
          ]
        }
      ],
      "source": [
        "history2 = model.fit(x=x_train,\n",
        "                    y=y_train,\n",
        "                    validation_data=(x_val, y_val),\n",
        "                    initial_epoch=20,\n",
        "                    epochs=50,\n",
        "                    shuffle=True)"
      ]
    },
    {
      "cell_type": "code",
      "execution_count": null,
      "id": "87b34a86",
      "metadata": {
        "scrolled": true,
        "id": "87b34a86",
        "outputId": "68a8a303-cabd-49c4-a36e-3a8cddcac8bd"
      },
      "outputs": [
        {
          "name": "stdout",
          "output_type": "stream",
          "text": [
            "Epoch 51/100\n",
            "450/450 [==============================] - 221s 489ms/step - loss: 0.2459 - accuracy: 0.9124 - val_loss: 0.5377 - val_accuracy: 0.8617\n",
            "Epoch 52/100\n",
            "450/450 [==============================] - 184s 408ms/step - loss: 0.2428 - accuracy: 0.9131 - val_loss: 0.5973 - val_accuracy: 0.8617\n",
            "Epoch 53/100\n",
            "450/450 [==============================] - 181s 401ms/step - loss: 0.2368 - accuracy: 0.9147 - val_loss: 0.5645 - val_accuracy: 0.8583\n",
            "Epoch 54/100\n",
            "450/450 [==============================] - 178s 395ms/step - loss: 0.2273 - accuracy: 0.9205 - val_loss: 0.5349 - val_accuracy: 0.8617\n",
            "Epoch 55/100\n",
            "450/450 [==============================] - 178s 395ms/step - loss: 0.2385 - accuracy: 0.9174 - val_loss: 0.5395 - val_accuracy: 0.8572\n",
            "Epoch 56/100\n",
            "450/450 [==============================] - 178s 394ms/step - loss: 0.2241 - accuracy: 0.9199 - val_loss: 0.5114 - val_accuracy: 0.8639\n",
            "Epoch 57/100\n",
            "450/450 [==============================] - 177s 394ms/step - loss: 0.2199 - accuracy: 0.9224 - val_loss: 0.5232 - val_accuracy: 0.8656\n",
            "Epoch 58/100\n",
            "450/450 [==============================] - 177s 392ms/step - loss: 0.2200 - accuracy: 0.9219 - val_loss: 0.5332 - val_accuracy: 0.8722\n",
            "Epoch 59/100\n",
            "450/450 [==============================] - 177s 394ms/step - loss: 0.2162 - accuracy: 0.9248 - val_loss: 0.5479 - val_accuracy: 0.8672\n",
            "Epoch 60/100\n",
            "450/450 [==============================] - 177s 394ms/step - loss: 0.2114 - accuracy: 0.9251 - val_loss: 0.5330 - val_accuracy: 0.8650\n",
            "Epoch 61/100\n",
            "450/450 [==============================] - 179s 398ms/step - loss: 0.2104 - accuracy: 0.9260 - val_loss: 0.5597 - val_accuracy: 0.8650\n",
            "Epoch 62/100\n",
            "450/450 [==============================] - 180s 399ms/step - loss: 0.2085 - accuracy: 0.9271 - val_loss: 0.5919 - val_accuracy: 0.8528\n",
            "Epoch 63/100\n",
            "450/450 [==============================] - 179s 397ms/step - loss: 0.2162 - accuracy: 0.9244 - val_loss: 0.5818 - val_accuracy: 0.8583\n",
            "Epoch 64/100\n",
            "450/450 [==============================] - 179s 398ms/step - loss: 0.1997 - accuracy: 0.9310 - val_loss: 0.5942 - val_accuracy: 0.8494\n",
            "Epoch 65/100\n",
            "450/450 [==============================] - 178s 396ms/step - loss: 0.2030 - accuracy: 0.9292 - val_loss: 0.5777 - val_accuracy: 0.8611\n",
            "Epoch 66/100\n",
            "450/450 [==============================] - 178s 396ms/step - loss: 0.2079 - accuracy: 0.9292 - val_loss: 0.5744 - val_accuracy: 0.8628\n",
            "Epoch 67/100\n",
            "450/450 [==============================] - 179s 397ms/step - loss: 0.2041 - accuracy: 0.9280 - val_loss: 0.5661 - val_accuracy: 0.8650\n",
            "Epoch 68/100\n",
            "450/450 [==============================] - 180s 400ms/step - loss: 0.2006 - accuracy: 0.9291 - val_loss: 0.6080 - val_accuracy: 0.8639\n",
            "Epoch 69/100\n",
            "450/450 [==============================] - 176s 392ms/step - loss: 0.1988 - accuracy: 0.9287 - val_loss: 0.5842 - val_accuracy: 0.8606\n",
            "Epoch 70/100\n",
            "450/450 [==============================] - 178s 396ms/step - loss: 0.1893 - accuracy: 0.9317 - val_loss: 0.5644 - val_accuracy: 0.8611\n",
            "Epoch 71/100\n",
            "450/450 [==============================] - 178s 396ms/step - loss: 0.1840 - accuracy: 0.9342 - val_loss: 0.5949 - val_accuracy: 0.8583\n",
            "Epoch 72/100\n",
            "450/450 [==============================] - 179s 398ms/step - loss: 0.1909 - accuracy: 0.9336 - val_loss: 0.5397 - val_accuracy: 0.8728\n",
            "Epoch 73/100\n",
            "450/450 [==============================] - 179s 398ms/step - loss: 0.1813 - accuracy: 0.9357 - val_loss: 0.5267 - val_accuracy: 0.8689\n",
            "Epoch 74/100\n",
            "450/450 [==============================] - 179s 397ms/step - loss: 0.1711 - accuracy: 0.9379 - val_loss: 0.5331 - val_accuracy: 0.8694\n",
            "Epoch 75/100\n",
            "450/450 [==============================] - 181s 402ms/step - loss: 0.1913 - accuracy: 0.9313 - val_loss: 0.5481 - val_accuracy: 0.8650\n",
            "Epoch 76/100\n",
            "450/450 [==============================] - 179s 397ms/step - loss: 0.1849 - accuracy: 0.9346 - val_loss: 0.5745 - val_accuracy: 0.8633\n",
            "Epoch 77/100\n",
            "450/450 [==============================] - 179s 398ms/step - loss: 0.1760 - accuracy: 0.9372 - val_loss: 0.6093 - val_accuracy: 0.8667\n",
            "Epoch 78/100\n",
            "450/450 [==============================] - 179s 398ms/step - loss: 0.1800 - accuracy: 0.9387 - val_loss: 0.5794 - val_accuracy: 0.8656\n",
            "Epoch 79/100\n",
            "450/450 [==============================] - 178s 395ms/step - loss: 0.1774 - accuracy: 0.9369 - val_loss: 0.5672 - val_accuracy: 0.8744\n",
            "Epoch 80/100\n",
            "450/450 [==============================] - 178s 396ms/step - loss: 0.1848 - accuracy: 0.9340 - val_loss: 0.6723 - val_accuracy: 0.8533\n",
            "Epoch 81/100\n",
            "450/450 [==============================] - 178s 396ms/step - loss: 0.1813 - accuracy: 0.9358 - val_loss: 0.5793 - val_accuracy: 0.8600\n",
            "Epoch 82/100\n",
            "450/450 [==============================] - 180s 401ms/step - loss: 0.1754 - accuracy: 0.9369 - val_loss: 0.5415 - val_accuracy: 0.8667\n",
            "Epoch 83/100\n",
            "450/450 [==============================] - 179s 397ms/step - loss: 0.1738 - accuracy: 0.9383 - val_loss: 0.6052 - val_accuracy: 0.8556\n",
            "Epoch 84/100\n",
            "450/450 [==============================] - 180s 399ms/step - loss: 0.1638 - accuracy: 0.9430 - val_loss: 0.6163 - val_accuracy: 0.8594\n",
            "Epoch 85/100\n",
            "450/450 [==============================] - 180s 400ms/step - loss: 0.1688 - accuracy: 0.9398 - val_loss: 0.5612 - val_accuracy: 0.8689\n",
            "Epoch 86/100\n",
            "450/450 [==============================] - 180s 399ms/step - loss: 0.1743 - accuracy: 0.9388 - val_loss: 0.6224 - val_accuracy: 0.8600\n",
            "Epoch 87/100\n",
            "450/450 [==============================] - 180s 399ms/step - loss: 0.1733 - accuracy: 0.9383 - val_loss: 0.6089 - val_accuracy: 0.8661\n",
            "Epoch 88/100\n",
            "450/450 [==============================] - 180s 400ms/step - loss: 0.1790 - accuracy: 0.9361 - val_loss: 0.5368 - val_accuracy: 0.8644\n",
            "Epoch 89/100\n",
            "450/450 [==============================] - 178s 396ms/step - loss: 0.1709 - accuracy: 0.9394 - val_loss: 0.5718 - val_accuracy: 0.8672\n",
            "Epoch 90/100\n",
            "450/450 [==============================] - 179s 398ms/step - loss: 0.1645 - accuracy: 0.9427 - val_loss: 0.6067 - val_accuracy: 0.8628\n",
            "Epoch 91/100\n",
            "450/450 [==============================] - 180s 399ms/step - loss: 0.1607 - accuracy: 0.9453 - val_loss: 0.7100 - val_accuracy: 0.8506\n",
            "Epoch 92/100\n",
            "450/450 [==============================] - 179s 398ms/step - loss: 0.1778 - accuracy: 0.9384 - val_loss: 0.6093 - val_accuracy: 0.8689\n",
            "Epoch 93/100\n",
            "450/450 [==============================] - 179s 398ms/step - loss: 0.1578 - accuracy: 0.9455 - val_loss: 0.6304 - val_accuracy: 0.8578\n",
            "Epoch 94/100\n",
            "450/450 [==============================] - 179s 398ms/step - loss: 0.1642 - accuracy: 0.9441 - val_loss: 0.6483 - val_accuracy: 0.8644\n",
            "Epoch 95/100\n",
            "450/450 [==============================] - 181s 401ms/step - loss: 0.1628 - accuracy: 0.9421 - val_loss: 0.5790 - val_accuracy: 0.8667\n",
            "Epoch 96/100\n",
            "450/450 [==============================] - 178s 396ms/step - loss: 0.1626 - accuracy: 0.9428 - val_loss: 0.6489 - val_accuracy: 0.8611\n",
            "Epoch 97/100\n",
            "450/450 [==============================] - 180s 400ms/step - loss: 0.1641 - accuracy: 0.9436 - val_loss: 0.6496 - val_accuracy: 0.8511\n",
            "Epoch 98/100\n",
            "450/450 [==============================] - 180s 400ms/step - loss: 0.1608 - accuracy: 0.9441 - val_loss: 0.5705 - val_accuracy: 0.8611\n",
            "Epoch 99/100\n",
            "450/450 [==============================] - 179s 398ms/step - loss: 0.1465 - accuracy: 0.9494 - val_loss: 0.6831 - val_accuracy: 0.8633\n",
            "Epoch 100/100\n",
            "450/450 [==============================] - 179s 397ms/step - loss: 0.1561 - accuracy: 0.9451 - val_loss: 0.5744 - val_accuracy: 0.8717\n"
          ]
        }
      ],
      "source": [
        "history3 = model.fit(x=x_train,\n",
        "                    y=y_train,\n",
        "                    validation_data=(x_val, y_val),\n",
        "                    initial_epoch=50,\n",
        "                    epochs=100,\n",
        "                    shuffle=True)"
      ]
    },
    {
      "cell_type": "code",
      "execution_count": null,
      "id": "fe179e27",
      "metadata": {
        "id": "fe179e27",
        "outputId": "46771fc8-440e-40a2-b89b-84c4119e76e4"
      },
      "outputs": [
        {
          "name": "stdout",
          "output_type": "stream",
          "text": [
            "57/57 [==============================] - 5s 82ms/step - loss: 0.6635 - accuracy: 0.8528\n"
          ]
        },
        {
          "data": {
            "text/plain": [
              "[0.6635146737098694, 0.8527777791023254]"
            ]
          },
          "execution_count": 94,
          "metadata": {},
          "output_type": "execute_result"
        }
      ],
      "source": [
        "model.evaluate(x=x_test, y=y_test)"
      ]
    },
    {
      "cell_type": "code",
      "execution_count": null,
      "id": "1202de98",
      "metadata": {
        "id": "1202de98",
        "outputId": "8d4e2ecf-8d8a-4049-dff9-3dfcb85d0ae0"
      },
      "outputs": [
        {
          "data": {
            "image/png": "[encoded data removed]",
            "text/plain": [
              "<Figure size 720x576 with 2 Axes>"
            ]
          },
          "metadata": {
            "needs_background": "light"
          },
          "output_type": "display_data"
        }
      ],
      "source": [
        "# HeatMap CNN64 filtered\n",
        "\n",
        "y_true = tf.argmax(y_test, axis=1)\n",
        "y_pred = tf.argmax(model.predict(x_test), axis=1)\n",
        "\n",
        "# Have to be 1-D vectors. Not one-hot encoded\n",
        "confusion_mtx = tf.math.confusion_matrix(y_true, y_pred)\n",
        "fig, ax = plt.subplots(figsize=(10, 8))\n",
        "sns.heatmap(confusion_mtx, xticklabels=labels, yticklabels=labels,\n",
        "            annot=True, fmt='g', ax=ax, cmap=\"viridis\", vmax=200)\n",
        "ax.set_xlabel('Prediction')\n",
        "ax.set_ylabel('Label')\n",
        "plt.savefig(\"../png/cnn64_confmatrix.png\", dpi=150)\n",
        "plt.show()"
      ]
    },
    {
      "cell_type": "code",
      "execution_count": null,
      "id": "74714732",
      "metadata": {
        "id": "74714732",
        "outputId": "06ee3926-ae05-4fc8-faf2-ed71ed74557c"
      },
      "outputs": [
        {
          "name": "stdout",
          "output_type": "stream",
          "text": [
            "INFO:tensorflow:Assets written to: ../models/model1/assets\n"
          ]
        }
      ],
      "source": [
        "model.save('../models/model1')"
      ]
    },
    {
      "cell_type": "code",
      "execution_count": null,
      "id": "fb83290a",
      "metadata": {
        "id": "fb83290a",
        "outputId": "b60e601f-bc7e-420b-a5d4-612b41cc42ce"
      },
      "outputs": [
        {
          "data": {
            "image/png": "[encoded data removed]",
            "text/plain": [
              "<Figure size 360x288 with 1 Axes>"
            ]
          },
          "metadata": {
            "needs_background": "light"
          },
          "output_type": "display_data"
        }
      ],
      "source": [
        "epochs = 50\n",
        "hist_acc = history.history['accuracy'] + history2.history['accuracy']\n",
        "hist_val_acc = history.history['val_accuracy'] + history2.history['val_accuracy']\n",
        "\n",
        "fig, ax = plt.subplots(figsize=(5,4))\n",
        "ax.plot(range(epochs), hist_acc, label='accuracy', lw=1.25)\n",
        "ax.plot(range(epochs), hist_val_acc, label='val accuracy', lw=1.25)\n",
        "ax.set_xlabel('Epochs')\n",
        "ax.set_ylabel('Accuracy')\n",
        "ax.set_xticks([i for i in range(0, epochs+1,4)])\n",
        "ax.legend()\n",
        "plt.savefig(\"../png/cnn64_acc_epochs.png\", dpi=150)\n",
        "\n",
        "plt.show()"
      ]
    }
  ],
  "metadata": {
    "kernelspec": {
      "display_name": "Python 3 (ipykernel)",
      "language": "python",
      "name": "python3"
    },
    "language_info": {
      "codemirror_mode": {
        "name": "ipython",
        "version": 3
      },
      "file_extension": ".py",
      "mimetype": "text/x-python",
      "name": "python",
      "nbconvert_exporter": "python",
      "pygments_lexer": "ipython3",
      "version": "3.9.7"
    },
    "colab": {
      "provenance": []
    }
  },
  "nbformat": 4,
  "nbformat_minor": 5
}